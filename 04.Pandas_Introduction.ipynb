{
 "cells": [
  {
   "cell_type": "markdown",
   "metadata": {},
   "source": [
    "# Pandas"
   ]
  },
  {
   "attachments": {},
   "cell_type": "markdown",
   "metadata": {},
   "source": [
    "**Pandas** - библиотека для обработки и анализа данных на `Python`. Позволяет работать с табличными данными, временными рядами и другими структурами данных, анализировать и визуализировать их. \n",
    "\n",
    "Основные особенности:\n",
    "- богатый инструментарий для анализа данных - аггрегация, трансформация и т.п.\n",
    "- возможность чтения и записи данных из\\в разные форматы - `CSV`, `Excel`, СУБД\n",
    "- совместимость со многими библиотеками из экосистемы `Python` для научных вычислений\n",
    "- возможность работать и иерархическими данными\n",
    "\n",
    "**Pandas**是一个用于`Python`数据处理和分析的库。允许你处理表格数据、时间序列和其他数据结构，对它们进行分析和可视化。\n",
    "\n",
    "主要特点。\n",
    "- 丰富的数据分析工具箱--聚合、转换等。\n",
    "- 能够从/向各种格式读写数据 - `CSV`, `Excel`,DBMS\n",
    "- 与 `Python`生态系统中用于科学计算的许多库兼容。\n",
    "- 处理分层数据的能力"
   ]
  },
  {
   "cell_type": "markdown",
   "metadata": {},
   "source": [
    "### Series"
   ]
  },
  {
   "cell_type": "code",
   "execution_count": 2,
   "metadata": {},
   "outputs": [],
   "source": [
    "import pandas as pd"
   ]
  },
  {
   "attachments": {},
   "cell_type": "markdown",
   "metadata": {},
   "source": [
    "Базовая структура данных - это `Series`. Интуитивно это типизированный вектор, каждый элемент которого имеет ассоциированную с ним некоторую уникальную метку. Набор меток, который привязан к `Series` называется индексом. `Series` можно создать из списка `Python` или из массива `NumPy`\n",
    "\n",
    "底层数据结构是一个 `Series`。直观地说，它是一个类型化的向量，其中每个元素都有一些与之相关的独特标签。与一个 `Series`相关的标签集被称为索引。系列 \"可以从`Python`列表或`NumPy`阵列中创建。"
   ]
  },
  {
   "cell_type": "code",
   "execution_count": 3,
   "metadata": {
    "collapsed": false,
    "jupyter": {
     "outputs_hidden": false
    }
   },
   "outputs": [
    {
     "data": {
      "text/plain": [
       "0    1\n",
       "1    2\n",
       "2    3\n",
       "3    4\n",
       "dtype: int64"
      ]
     },
     "execution_count": 3,
     "metadata": {},
     "output_type": "execute_result"
    }
   ],
   "source": [
    "pd.Series([1, 2, 3, 4])"
   ]
  },
  {
   "attachments": {},
   "cell_type": "markdown",
   "metadata": {},
   "source": [
    "по умолчанию в качестве индекса выступают упорядоченные целые числа, но можно использовать строки, даты, и многие другие объекты. \n",
    "\n",
    "默认索引是有序的整数，但也可以使用字符串、日期和许多其他对象。"
   ]
  },
  {
   "cell_type": "code",
   "execution_count": 4,
   "metadata": {
    "collapsed": false,
    "jupyter": {
     "outputs_hidden": false
    }
   },
   "outputs": [
    {
     "data": {
      "text/plain": [
       "a    1\n",
       "c    2\n",
       "b    3\n",
       "d    4\n",
       "dtype: int64"
      ]
     },
     "execution_count": 4,
     "metadata": {},
     "output_type": "execute_result"
    }
   ],
   "source": [
    "s = pd.Series([1, 2, 3, 4], index=['a', 'c', 'b', 'd'])\n",
    "s"
   ]
  },
  {
   "attachments": {},
   "cell_type": "markdown",
   "metadata": {},
   "source": [
    "Можно и прямо использовать словарь с аналогичным результатом 你也可以直接使用字典，结果类似"
   ]
  },
  {
   "cell_type": "code",
   "execution_count": 5,
   "metadata": {
    "collapsed": false,
    "jupyter": {
     "outputs_hidden": false
    }
   },
   "outputs": [
    {
     "data": {
      "text/plain": [
       "a    1\n",
       "b    2\n",
       "c    3\n",
       "d    4\n",
       "dtype: int64"
      ]
     },
     "execution_count": 5,
     "metadata": {},
     "output_type": "execute_result"
    }
   ],
   "source": [
    "pd.Series({'a': 1, 'b': 2, 'c': 3, 'd': 4})"
   ]
  },
  {
   "attachments": {},
   "cell_type": "markdown",
   "metadata": {},
   "source": [
    "К элементам `Series` можно обращаться  по индексу \n",
    "\n",
    "`Series` 中的元素可以通过一个索引来访问"
   ]
  },
  {
   "cell_type": "code",
   "execution_count": 6,
   "metadata": {
    "collapsed": false,
    "jupyter": {
     "outputs_hidden": false
    }
   },
   "outputs": [
    {
     "data": {
      "text/plain": [
       "2"
      ]
     },
     "execution_count": 6,
     "metadata": {},
     "output_type": "execute_result"
    }
   ],
   "source": [
    "s['c']"
   ]
  },
  {
   "attachments": {},
   "cell_type": "markdown",
   "metadata": {},
   "source": [
    "Так как индекс упорядоченный, мы можем обращаться к элементам в `Series` с помошью чисел, точно так же как мы это делали  в списках `Python` или массивав `NumPy`\n",
    "\n",
    "由于索引是有序的，我们可以使用数字访问`Series`中的项目，就像我们对`Python`列表或`NumPy`数组所做的那样"
   ]
  },
  {
   "cell_type": "code",
   "execution_count": 7,
   "metadata": {
    "collapsed": false,
    "jupyter": {
     "outputs_hidden": false
    }
   },
   "outputs": [
    {
     "data": {
      "text/plain": [
       "3"
      ]
     },
     "execution_count": 7,
     "metadata": {},
     "output_type": "execute_result"
    }
   ],
   "source": [
    "s[2]"
   ]
  },
  {
   "attachments": {},
   "cell_type": "markdown",
   "metadata": {},
   "source": [
    "Можем даже использовать срезы, получаяновый объект `Series` \n",
    "\n",
    "我们甚至可以使用切片，获得一个`Series` 对象"
   ]
  },
  {
   "cell_type": "code",
   "execution_count": 8,
   "metadata": {
    "collapsed": false,
    "jupyter": {
     "outputs_hidden": false
    }
   },
   "outputs": [
    {
     "data": {
      "text/plain": [
       "b    3\n",
       "d    4\n",
       "dtype: int64"
      ]
     },
     "execution_count": 8,
     "metadata": {},
     "output_type": "execute_result"
    }
   ],
   "source": [
    "s[2:4]"
   ]
  },
  {
   "cell_type": "code",
   "execution_count": 9,
   "metadata": {
    "collapsed": false,
    "jupyter": {
     "outputs_hidden": false
    }
   },
   "outputs": [
    {
     "data": {
      "text/plain": [
       "c    2\n",
       "b    3\n",
       "d    4\n",
       "dtype: int64"
      ]
     },
     "execution_count": 9,
     "metadata": {},
     "output_type": "execute_result"
    }
   ],
   "source": [
    "s['c':'d']"
   ]
  },
  {
   "attachments": {},
   "cell_type": "markdown",
   "metadata": {},
   "source": [
    "Из объекта `Series` можно получить `NumPy`-массив значений\n",
    "\n",
    "一个`NumPy`数组的值可以从`Series` 对象中获得"
   ]
  },
  {
   "cell_type": "code",
   "execution_count": 10,
   "metadata": {
    "collapsed": false,
    "jupyter": {
     "outputs_hidden": false
    }
   },
   "outputs": [
    {
     "data": {
      "text/plain": [
       "array([1, 2, 3, 4], dtype=int64)"
      ]
     },
     "execution_count": 10,
     "metadata": {},
     "output_type": "execute_result"
    }
   ],
   "source": [
    "s.values"
   ]
  },
  {
   "attachments": {},
   "cell_type": "markdown",
   "metadata": {},
   "source": [
    "и значения индекса 和索引值"
   ]
  },
  {
   "cell_type": "code",
   "execution_count": 11,
   "metadata": {
    "collapsed": false,
    "jupyter": {
     "outputs_hidden": false
    }
   },
   "outputs": [
    {
     "data": {
      "text/plain": [
       "Index(['a', 'c', 'b', 'd'], dtype='object')"
      ]
     },
     "execution_count": 11,
     "metadata": {},
     "output_type": "execute_result"
    }
   ],
   "source": [
    "s.index"
   ]
  },
  {
   "attachments": {},
   "cell_type": "markdown",
   "metadata": {},
   "source": [
    "Рассмотрим более интересный пример - загрузим CSV-файл с информацией о курсе Евро с 01.04.2017 ао 15.04.2017 考虑一个更有趣的例子--让我们上传一个CSV文件，其中包含从2017年4月1日至2017年4月15日的欧元汇率信息"
   ]
  },
  {
   "cell_type": "code",
   "execution_count": 12,
   "metadata": {
    "collapsed": false,
    "jupyter": {
     "outputs_hidden": false
    }
   },
   "outputs": [
    {
     "name": "stderr",
     "output_type": "stream",
     "text": [
      "'head' �����ڲ����ⲿ���Ҳ���ǿ����еĳ���\n",
      "���������ļ���\n"
     ]
    }
   ],
   "source": [
    "# первые 5 строчек нашего файла 我们文件的前5行\n",
    "!head -n 5 data/eur.csv"
   ]
  },
  {
   "attachments": {},
   "cell_type": "markdown",
   "metadata": {},
   "source": [
    "Загружаем файл в `Series`\n",
    "将文件载入 `Series`中"
   ]
  },
  {
   "cell_type": "code",
   "execution_count": 13,
   "metadata": {
    "collapsed": false,
    "jupyter": {
     "outputs_hidden": false
    }
   },
   "outputs": [
    {
     "data": {
      "text/plain": [
       "0\n",
       "2017-04-01    59.8107\n",
       "2017-04-04    59.8953\n",
       "2017-04-05    60.2427\n",
       "2017-04-06    59.6948\n",
       "2017-04-07    60.0827\n",
       "2017-04-08    60.5687\n",
       "2017-04-11    60.7469\n",
       "2017-04-12    60.3042\n",
       "2017-04-13    60.2631\n",
       "2017-04-14    60.2867\n",
       "2017-04-15    59.7791\n",
       "Name: 1, dtype: float64"
      ]
     },
     "execution_count": 13,
     "metadata": {},
     "output_type": "execute_result"
    }
   ],
   "source": [
    "s = pd.read_csv('data/eur.csv', index_col=0, header=None, parse_dates=True).loc[:, 1]\n",
    "s"
   ]
  },
  {
   "cell_type": "code",
   "execution_count": 14,
   "metadata": {
    "collapsed": false,
    "jupyter": {
     "outputs_hidden": false
    }
   },
   "outputs": [
    {
     "data": {
      "text/plain": [
       "DatetimeIndex(['2017-04-01', '2017-04-04', '2017-04-05', '2017-04-06',\n",
       "               '2017-04-07', '2017-04-08', '2017-04-11', '2017-04-12',\n",
       "               '2017-04-13', '2017-04-14', '2017-04-15'],\n",
       "              dtype='datetime64[ns]', name=0, freq=None)"
      ]
     },
     "execution_count": 14,
     "metadata": {},
     "output_type": "execute_result"
    }
   ],
   "source": [
    "s.index"
   ]
  },
  {
   "attachments": {},
   "cell_type": "markdown",
   "metadata": {},
   "source": [
    "Как мы видим, `Pandas` сама определила типы данных  (в том числе даты) 我们可以看到，`Pandas`本身已经定义了数据类型（包括日期）。"
   ]
  },
  {
   "attachments": {},
   "cell_type": "markdown",
   "metadata": {},
   "source": [
    "Мы можем получить даты, для которых курс Евро меньше 60 我们可以得到欧元汇率低于60的日期"
   ]
  },
  {
   "cell_type": "code",
   "execution_count": 15,
   "metadata": {
    "collapsed": false,
    "jupyter": {
     "outputs_hidden": false
    }
   },
   "outputs": [
    {
     "data": {
      "text/plain": [
       "0\n",
       "2017-04-01     True\n",
       "2017-04-04     True\n",
       "2017-04-05    False\n",
       "2017-04-06     True\n",
       "2017-04-07    False\n",
       "2017-04-08    False\n",
       "2017-04-11    False\n",
       "2017-04-12    False\n",
       "2017-04-13    False\n",
       "2017-04-14    False\n",
       "2017-04-15     True\n",
       "Name: 1, dtype: bool"
      ]
     },
     "execution_count": 15,
     "metadata": {},
     "output_type": "execute_result"
    }
   ],
   "source": [
    "s < 60"
   ]
  },
  {
   "attachments": {},
   "cell_type": "markdown",
   "metadata": {},
   "source": [
    "Обратите внимание, что результат этой операции - новый `Series`, где индекс остается неизменным, а вместо курса евро - булевское значение. Наличие индекса - это основное отличие `Series` от обычных одномерных массивов `NumPy`\n",
    "\n",
    "请注意，这个操作的结果是一个新的`Series`，其中索引保持不变，是一个布尔值，而不是欧元汇率。索引的存在是`Series`和普通一维数组`NumPy`的主要区别。"
   ]
  },
  {
   "attachments": {},
   "cell_type": "markdown",
   "metadata": {},
   "source": [
    "Следующая стандартная операция заключается в получии подмножество `Series` на основе некоторого условия. Получим подмножество, где курс меньше 60.\n",
    "\n",
    "下一个标准操作是根据一些条件获得 `Series`的一个子集。我们得到了比率小于60的子集。"
   ]
  },
  {
   "cell_type": "code",
   "execution_count": 16,
   "metadata": {
    "collapsed": false,
    "jupyter": {
     "outputs_hidden": false
    }
   },
   "outputs": [
    {
     "data": {
      "text/plain": [
       "0\n",
       "2017-04-01    59.8107\n",
       "2017-04-04    59.8953\n",
       "2017-04-06    59.6948\n",
       "2017-04-15    59.7791\n",
       "Name: 1, dtype: float64"
      ]
     },
     "execution_count": 16,
     "metadata": {},
     "output_type": "execute_result"
    }
   ],
   "source": [
    "s[s < 60]"
   ]
  },
  {
   "attachments": {},
   "cell_type": "markdown",
   "metadata": {},
   "source": [
    "Где курс меньше 60 после 4 апреля 2017 года  如果在2017年4月4日之后，该比率低于60"
   ]
  },
  {
   "cell_type": "code",
   "execution_count": 17,
   "metadata": {
    "collapsed": false,
    "jupyter": {
     "outputs_hidden": false
    }
   },
   "outputs": [
    {
     "data": {
      "text/plain": [
       "0\n",
       "2017-04-06    59.6948\n",
       "2017-04-15    59.7791\n",
       "Name: 1, dtype: float64"
      ]
     },
     "execution_count": 17,
     "metadata": {},
     "output_type": "execute_result"
    }
   ],
   "source": [
    "s[(s < 60) & (s.index > '2017-04-04')]"
   ]
  },
  {
   "attachments": {},
   "cell_type": "markdown",
   "metadata": {},
   "source": [
    "Обратите внимание, что результат двух операций `s < 60` и `s.index > '2017-04-04'`  -- `Series` c логическими значениями. Мы совершаем между ними логическую операци \"&\" и получаем ещё один `Series` с логическими значениями.\n",
    "\n",
    "请注意，两个操作的结果`s < 60`和`s.index > '2017-04-04'`- `Series`具有逻辑值。我们在它们之间进行逻辑\"&\"操作，得到另一个具有逻辑值的`Series`。"
   ]
  },
  {
   "attachments": {},
   "cell_type": "markdown",
   "metadata": {},
   "source": [
    "### DataFrame数据帧"
   ]
  },
  {
   "attachments": {},
   "cell_type": "markdown",
   "metadata": {},
   "source": [
    "С помощью `Series` мы можем оперировать одномерными данными (как в примере выше: дата $\\rightarrow$ курс евро). Но если данных больше, и мы хотим производить какой-то анализ на основе курса евро и курса доллара? Мы можем создать два объекта `Series`, но одновременная работа с ними может быть не очень удобной. \n",
    "\n",
    "通过 `Series`，我们可以对一维数据进行操作（如上面的例子：$\\rightarrow$ 欧元汇率）。但如果有更多的数据，我们想根据欧元和美元的汇率做一些分析？我们可以创建两个 `Series`对象，但同时处理它们可能不是很方便。\n",
    "\n",
    "**DataFrame** можно логически представить как именнованный набор объектов `Series` с одинаковым индексом. Если говорить более простым языком - это таблица, у каждой строки которой есть уникальное значение (индекс) и у каждого столбца - имя. Это чем-то напомнает `Excel`, только управлять таблицей мы будем из `Python`. Стоит отметить, что появление `DataFrame` инспирировано одноименной структурой данных из языка `R`.\n",
    "\n",
    "**DataFrame**在逻辑上可以表示为一组具有相同索引的`Series`对象。更简单地说，它是一个表，每一行都有一个唯一的值（索引），每一列都有一个名字。这有点像`Excel`，只是我们将从 `Python`来管理这个表。值得注意的是，`DataFrame`的出现是受 `R`语言中同名数据结构的启发。"
   ]
  },
  {
   "attachments": {},
   "cell_type": "markdown",
   "metadata": {},
   "source": [
    "`DataFrame` можно просто создать, передав в конструктор табличные данные и имена колонок\n",
    "通过向构造函数传递表数据和列名，可以简单地创建一个`DataFrame` 。"
   ]
  },
  {
   "cell_type": "code",
   "execution_count": 18,
   "metadata": {
    "collapsed": false,
    "jupyter": {
     "outputs_hidden": false
    }
   },
   "outputs": [
    {
     "data": {
      "text/html": [
       "<div>\n",
       "<style scoped>\n",
       "    .dataframe tbody tr th:only-of-type {\n",
       "        vertical-align: middle;\n",
       "    }\n",
       "\n",
       "    .dataframe tbody tr th {\n",
       "        vertical-align: top;\n",
       "    }\n",
       "\n",
       "    .dataframe thead th {\n",
       "        text-align: right;\n",
       "    }\n",
       "</style>\n",
       "<table border=\"1\" class=\"dataframe\">\n",
       "  <thead>\n",
       "    <tr style=\"text-align: right;\">\n",
       "      <th></th>\n",
       "      <th>a</th>\n",
       "      <th>b</th>\n",
       "      <th>c</th>\n",
       "    </tr>\n",
       "  </thead>\n",
       "  <tbody>\n",
       "    <tr>\n",
       "      <th>0</th>\n",
       "      <td>1</td>\n",
       "      <td>2</td>\n",
       "      <td>3</td>\n",
       "    </tr>\n",
       "    <tr>\n",
       "      <th>1</th>\n",
       "      <td>4</td>\n",
       "      <td>5</td>\n",
       "      <td>6</td>\n",
       "    </tr>\n",
       "  </tbody>\n",
       "</table>\n",
       "</div>"
      ],
      "text/plain": [
       "   a  b  c\n",
       "0  1  2  3\n",
       "1  4  5  6"
      ]
     },
     "execution_count": 18,
     "metadata": {},
     "output_type": "execute_result"
    }
   ],
   "source": [
    "pd.DataFrame(data=[[1, 2, 3], [4, 5, 6]], columns=['a', 'b', 'c'])"
   ]
  },
  {
   "attachments": {},
   "cell_type": "markdown",
   "metadata": {},
   "source": [
    "Или аналогично по столбцам或类似地按列"
   ]
  },
  {
   "cell_type": "code",
   "execution_count": 19,
   "metadata": {
    "collapsed": false,
    "jupyter": {
     "outputs_hidden": false
    }
   },
   "outputs": [
    {
     "data": {
      "text/html": [
       "<div>\n",
       "<style scoped>\n",
       "    .dataframe tbody tr th:only-of-type {\n",
       "        vertical-align: middle;\n",
       "    }\n",
       "\n",
       "    .dataframe tbody tr th {\n",
       "        vertical-align: top;\n",
       "    }\n",
       "\n",
       "    .dataframe thead th {\n",
       "        text-align: right;\n",
       "    }\n",
       "</style>\n",
       "<table border=\"1\" class=\"dataframe\">\n",
       "  <thead>\n",
       "    <tr style=\"text-align: right;\">\n",
       "      <th></th>\n",
       "      <th>a</th>\n",
       "      <th>b</th>\n",
       "      <th>c</th>\n",
       "    </tr>\n",
       "  </thead>\n",
       "  <tbody>\n",
       "    <tr>\n",
       "      <th>0</th>\n",
       "      <td>1</td>\n",
       "      <td>2</td>\n",
       "      <td>3</td>\n",
       "    </tr>\n",
       "    <tr>\n",
       "      <th>1</th>\n",
       "      <td>4</td>\n",
       "      <td>5</td>\n",
       "      <td>6</td>\n",
       "    </tr>\n",
       "  </tbody>\n",
       "</table>\n",
       "</div>"
      ],
      "text/plain": [
       "   a  b  c\n",
       "0  1  2  3\n",
       "1  4  5  6"
      ]
     },
     "execution_count": 19,
     "metadata": {},
     "output_type": "execute_result"
    }
   ],
   "source": [
    "pd.DataFrame(data={'a' : [1, 4], 'b': [2, 5], 'c': [3, 6]})"
   ]
  },
  {
   "attachments": {},
   "cell_type": "markdown",
   "metadata": {},
   "source": [
    "Вместо списков, можно использовать массивы `NumPy` или `Series`可以使用`NumPy`或`Series`的数组来代替列表"
   ]
  },
  {
   "attachments": {},
   "cell_type": "markdown",
   "metadata": {},
   "source": [
    "Давайте загрузим исторические данные по евро, доллару и британскому фунту. Наш файл (в формате `CSV`) выглядит так\n",
    "\n",
    "让我们下载欧元、美元和英镑的历史数据。我们的文件（以 `CSV`格式）看起来像这样"
   ]
  },
  {
   "cell_type": "code",
   "execution_count": 20,
   "metadata": {
    "collapsed": false,
    "jupyter": {
     "outputs_hidden": false
    }
   },
   "outputs": [
    {
     "name": "stderr",
     "output_type": "stream",
     "text": [
      "'head' �����ڲ����ⲿ���Ҳ���ǿ����еĳ���\n",
      "���������ļ���\n"
     ]
    }
   ],
   "source": [
    "!head -n 5 data/currencies.csv"
   ]
  },
  {
   "attachments": {},
   "cell_type": "markdown",
   "metadata": {},
   "source": [
    "c помощью параметров мы указываем как следует читать файл:\n",
    "- `index_col=0` - индекс расположен в первой колонке (отсчет идёт, как обычно, с нуля). \n",
    "- `header=0` - заголовки таблицы на первой строке. Если наш файл не содержит заголовка, мы можем просто указать `header=False`, в этом случае колонки будут носить численные именования.\n",
    "\n",
    "参数是用来指定如何读取文件的。\n",
    "- `index_col=0` - 索引位于第一列（像平常一样从零开始计算）。\n",
    "- `header=0` - 表头在第一行。如果我们的文件不包含页眉，我们可以简单地指定`header=False`，在这种情况下，列将以数字命名。\n",
    "\n",
    "\n",
    "Чтобы не заграмождать экран, мы будем использовать метод `.head()`, который обрезает нашу таблицу до 5 строк. \n",
    "\n",
    "为了保持屏幕不乱，我们将使用`.head()`方法，将我们的表格修剪成5行。"
   ]
  },
  {
   "cell_type": "code",
   "execution_count": 21,
   "metadata": {
    "collapsed": false,
    "jupyter": {
     "outputs_hidden": false
    }
   },
   "outputs": [
    {
     "data": {
      "text/html": [
       "<div>\n",
       "<style scoped>\n",
       "    .dataframe tbody tr th:only-of-type {\n",
       "        vertical-align: middle;\n",
       "    }\n",
       "\n",
       "    .dataframe tbody tr th {\n",
       "        vertical-align: top;\n",
       "    }\n",
       "\n",
       "    .dataframe thead th {\n",
       "        text-align: right;\n",
       "    }\n",
       "</style>\n",
       "<table border=\"1\" class=\"dataframe\">\n",
       "  <thead>\n",
       "    <tr style=\"text-align: right;\">\n",
       "      <th></th>\n",
       "      <th>EUR</th>\n",
       "      <th>USD</th>\n",
       "      <th>GBP</th>\n",
       "    </tr>\n",
       "    <tr>\n",
       "      <th>DATE</th>\n",
       "      <th></th>\n",
       "      <th></th>\n",
       "      <th></th>\n",
       "    </tr>\n",
       "  </thead>\n",
       "  <tbody>\n",
       "    <tr>\n",
       "      <th>2017-04-01</th>\n",
       "      <td>59.8107</td>\n",
       "      <td>55.9606</td>\n",
       "      <td>69.7605</td>\n",
       "    </tr>\n",
       "    <tr>\n",
       "      <th>2017-04-04</th>\n",
       "      <td>59.8953</td>\n",
       "      <td>56.1396</td>\n",
       "      <td>70.3429</td>\n",
       "    </tr>\n",
       "    <tr>\n",
       "      <th>2017-04-05</th>\n",
       "      <td>60.2427</td>\n",
       "      <td>56.5553</td>\n",
       "      <td>70.3548</td>\n",
       "    </tr>\n",
       "    <tr>\n",
       "      <th>2017-04-06</th>\n",
       "      <td>59.6948</td>\n",
       "      <td>55.8940</td>\n",
       "      <td>69.4986</td>\n",
       "    </tr>\n",
       "    <tr>\n",
       "      <th>2017-04-07</th>\n",
       "      <td>60.0827</td>\n",
       "      <td>56.4369</td>\n",
       "      <td>70.3655</td>\n",
       "    </tr>\n",
       "  </tbody>\n",
       "</table>\n",
       "</div>"
      ],
      "text/plain": [
       "                EUR      USD      GBP\n",
       "DATE                                 \n",
       "2017-04-01  59.8107  55.9606  69.7605\n",
       "2017-04-04  59.8953  56.1396  70.3429\n",
       "2017-04-05  60.2427  56.5553  70.3548\n",
       "2017-04-06  59.6948  55.8940  69.4986\n",
       "2017-04-07  60.0827  56.4369  70.3655"
      ]
     },
     "execution_count": 21,
     "metadata": {},
     "output_type": "execute_result"
    }
   ],
   "source": [
    "df = pd.read_csv('data/currencies.csv', index_col=0, header=0, parse_dates=[0])\n",
    "df.head()"
   ]
  },
  {
   "attachments": {},
   "cell_type": "markdown",
   "metadata": {},
   "source": [
    "#### Основные операции基本操作"
   ]
  },
  {
   "attachments": {},
   "cell_type": "markdown",
   "metadata": {},
   "source": [
    "Мы можем получить один столбец, которые будет представим в виде объекта `Series`\n",
    "\n",
    "我们可以得到一个单列，以 `Series`对象的形式来表示"
   ]
  },
  {
   "cell_type": "code",
   "execution_count": 22,
   "metadata": {
    "collapsed": false,
    "jupyter": {
     "outputs_hidden": false
    }
   },
   "outputs": [
    {
     "data": {
      "text/plain": [
       "DATE\n",
       "2017-04-01    55.9606\n",
       "2017-04-04    56.1396\n",
       "2017-04-05    56.5553\n",
       "2017-04-06    55.8940\n",
       "2017-04-07    56.4369\n",
       "Name: USD, dtype: float64"
      ]
     },
     "execution_count": 22,
     "metadata": {},
     "output_type": "execute_result"
    }
   ],
   "source": [
    "df['USD'].head()"
   ]
  },
  {
   "attachments": {},
   "cell_type": "markdown",
   "metadata": {},
   "source": [
    "Или срезать `DataFrame`, взяв только некоторые, интересные нам столбцы:\n",
    "或者将 `DataFrame`切开，只取一些感兴趣的列。"
   ]
  },
  {
   "cell_type": "code",
   "execution_count": 23,
   "metadata": {
    "collapsed": false,
    "jupyter": {
     "outputs_hidden": false
    }
   },
   "outputs": [
    {
     "data": {
      "text/html": [
       "<div>\n",
       "<style scoped>\n",
       "    .dataframe tbody tr th:only-of-type {\n",
       "        vertical-align: middle;\n",
       "    }\n",
       "\n",
       "    .dataframe tbody tr th {\n",
       "        vertical-align: top;\n",
       "    }\n",
       "\n",
       "    .dataframe thead th {\n",
       "        text-align: right;\n",
       "    }\n",
       "</style>\n",
       "<table border=\"1\" class=\"dataframe\">\n",
       "  <thead>\n",
       "    <tr style=\"text-align: right;\">\n",
       "      <th></th>\n",
       "      <th>USD</th>\n",
       "      <th>GBP</th>\n",
       "    </tr>\n",
       "    <tr>\n",
       "      <th>DATE</th>\n",
       "      <th></th>\n",
       "      <th></th>\n",
       "    </tr>\n",
       "  </thead>\n",
       "  <tbody>\n",
       "    <tr>\n",
       "      <th>2017-04-01</th>\n",
       "      <td>55.9606</td>\n",
       "      <td>69.7605</td>\n",
       "    </tr>\n",
       "    <tr>\n",
       "      <th>2017-04-04</th>\n",
       "      <td>56.1396</td>\n",
       "      <td>70.3429</td>\n",
       "    </tr>\n",
       "    <tr>\n",
       "      <th>2017-04-05</th>\n",
       "      <td>56.5553</td>\n",
       "      <td>70.3548</td>\n",
       "    </tr>\n",
       "    <tr>\n",
       "      <th>2017-04-06</th>\n",
       "      <td>55.8940</td>\n",
       "      <td>69.4986</td>\n",
       "    </tr>\n",
       "    <tr>\n",
       "      <th>2017-04-07</th>\n",
       "      <td>56.4369</td>\n",
       "      <td>70.3655</td>\n",
       "    </tr>\n",
       "  </tbody>\n",
       "</table>\n",
       "</div>"
      ],
      "text/plain": [
       "                USD      GBP\n",
       "DATE                        \n",
       "2017-04-01  55.9606  69.7605\n",
       "2017-04-04  56.1396  70.3429\n",
       "2017-04-05  56.5553  70.3548\n",
       "2017-04-06  55.8940  69.4986\n",
       "2017-04-07  56.4369  70.3655"
      ]
     },
     "execution_count": 23,
     "metadata": {},
     "output_type": "execute_result"
    }
   ],
   "source": [
    "df[['USD', 'GBP']].head()"
   ]
  },
  {
   "attachments": {},
   "cell_type": "markdown",
   "metadata": {},
   "source": [
    "мы можем создать новый столбец из старых. В данном случае посчитаем разницу между курсом фунта и евро на каждый день\n",
    "\n",
    "我们可以从旧列中创建一个新列。在这种情况下，我们将计算出每天的英镑汇率和欧元汇率之间的差异"
   ]
  },
  {
   "cell_type": "code",
   "execution_count": 24,
   "metadata": {
    "collapsed": false,
    "jupyter": {
     "outputs_hidden": false
    }
   },
   "outputs": [
    {
     "data": {
      "text/html": [
       "<div>\n",
       "<style scoped>\n",
       "    .dataframe tbody tr th:only-of-type {\n",
       "        vertical-align: middle;\n",
       "    }\n",
       "\n",
       "    .dataframe tbody tr th {\n",
       "        vertical-align: top;\n",
       "    }\n",
       "\n",
       "    .dataframe thead th {\n",
       "        text-align: right;\n",
       "    }\n",
       "</style>\n",
       "<table border=\"1\" class=\"dataframe\">\n",
       "  <thead>\n",
       "    <tr style=\"text-align: right;\">\n",
       "      <th></th>\n",
       "      <th>EUR</th>\n",
       "      <th>USD</th>\n",
       "      <th>GBP</th>\n",
       "      <th>GBP-EUR</th>\n",
       "    </tr>\n",
       "    <tr>\n",
       "      <th>DATE</th>\n",
       "      <th></th>\n",
       "      <th></th>\n",
       "      <th></th>\n",
       "      <th></th>\n",
       "    </tr>\n",
       "  </thead>\n",
       "  <tbody>\n",
       "    <tr>\n",
       "      <th>2017-04-01</th>\n",
       "      <td>59.8107</td>\n",
       "      <td>55.9606</td>\n",
       "      <td>69.7605</td>\n",
       "      <td>9.9498</td>\n",
       "    </tr>\n",
       "    <tr>\n",
       "      <th>2017-04-04</th>\n",
       "      <td>59.8953</td>\n",
       "      <td>56.1396</td>\n",
       "      <td>70.3429</td>\n",
       "      <td>10.4476</td>\n",
       "    </tr>\n",
       "    <tr>\n",
       "      <th>2017-04-05</th>\n",
       "      <td>60.2427</td>\n",
       "      <td>56.5553</td>\n",
       "      <td>70.3548</td>\n",
       "      <td>10.1121</td>\n",
       "    </tr>\n",
       "    <tr>\n",
       "      <th>2017-04-06</th>\n",
       "      <td>59.6948</td>\n",
       "      <td>55.8940</td>\n",
       "      <td>69.4986</td>\n",
       "      <td>9.8038</td>\n",
       "    </tr>\n",
       "    <tr>\n",
       "      <th>2017-04-07</th>\n",
       "      <td>60.0827</td>\n",
       "      <td>56.4369</td>\n",
       "      <td>70.3655</td>\n",
       "      <td>10.2828</td>\n",
       "    </tr>\n",
       "  </tbody>\n",
       "</table>\n",
       "</div>"
      ],
      "text/plain": [
       "                EUR      USD      GBP  GBP-EUR\n",
       "DATE                                          \n",
       "2017-04-01  59.8107  55.9606  69.7605   9.9498\n",
       "2017-04-04  59.8953  56.1396  70.3429  10.4476\n",
       "2017-04-05  60.2427  56.5553  70.3548  10.1121\n",
       "2017-04-06  59.6948  55.8940  69.4986   9.8038\n",
       "2017-04-07  60.0827  56.4369  70.3655  10.2828"
      ]
     },
     "execution_count": 24,
     "metadata": {},
     "output_type": "execute_result"
    }
   ],
   "source": [
    "df['GBP-EUR'] = df['GBP'] - df['EUR']\n",
    "df.head(5)"
   ]
  },
  {
   "attachments": {},
   "cell_type": "markdown",
   "metadata": {},
   "source": [
    "Или можно посмотреть на сколько изменялся курс евро и доллара с прошлого дня 或者你可以看看欧元和美元的汇率自去年以来有多大变化"
   ]
  },
  {
   "cell_type": "code",
   "execution_count": 25,
   "metadata": {
    "collapsed": false,
    "jupyter": {
     "outputs_hidden": false
    }
   },
   "outputs": [
    {
     "data": {
      "text/html": [
       "<div>\n",
       "<style scoped>\n",
       "    .dataframe tbody tr th:only-of-type {\n",
       "        vertical-align: middle;\n",
       "    }\n",
       "\n",
       "    .dataframe tbody tr th {\n",
       "        vertical-align: top;\n",
       "    }\n",
       "\n",
       "    .dataframe thead th {\n",
       "        text-align: right;\n",
       "    }\n",
       "</style>\n",
       "<table border=\"1\" class=\"dataframe\">\n",
       "  <thead>\n",
       "    <tr style=\"text-align: right;\">\n",
       "      <th></th>\n",
       "      <th>EUR</th>\n",
       "      <th>USD</th>\n",
       "      <th>GBP</th>\n",
       "      <th>GBP-EUR</th>\n",
       "      <th>$\\Delta$ EUR</th>\n",
       "      <th>$\\Delta$ USD</th>\n",
       "    </tr>\n",
       "    <tr>\n",
       "      <th>DATE</th>\n",
       "      <th></th>\n",
       "      <th></th>\n",
       "      <th></th>\n",
       "      <th></th>\n",
       "      <th></th>\n",
       "      <th></th>\n",
       "    </tr>\n",
       "  </thead>\n",
       "  <tbody>\n",
       "    <tr>\n",
       "      <th>2017-04-01</th>\n",
       "      <td>59.8107</td>\n",
       "      <td>55.9606</td>\n",
       "      <td>69.7605</td>\n",
       "      <td>9.9498</td>\n",
       "      <td>NaN</td>\n",
       "      <td>NaN</td>\n",
       "    </tr>\n",
       "    <tr>\n",
       "      <th>2017-04-04</th>\n",
       "      <td>59.8953</td>\n",
       "      <td>56.1396</td>\n",
       "      <td>70.3429</td>\n",
       "      <td>10.4476</td>\n",
       "      <td>0.0846</td>\n",
       "      <td>0.1790</td>\n",
       "    </tr>\n",
       "    <tr>\n",
       "      <th>2017-04-05</th>\n",
       "      <td>60.2427</td>\n",
       "      <td>56.5553</td>\n",
       "      <td>70.3548</td>\n",
       "      <td>10.1121</td>\n",
       "      <td>0.3474</td>\n",
       "      <td>0.4157</td>\n",
       "    </tr>\n",
       "    <tr>\n",
       "      <th>2017-04-06</th>\n",
       "      <td>59.6948</td>\n",
       "      <td>55.8940</td>\n",
       "      <td>69.4986</td>\n",
       "      <td>9.8038</td>\n",
       "      <td>-0.5479</td>\n",
       "      <td>-0.6613</td>\n",
       "    </tr>\n",
       "    <tr>\n",
       "      <th>2017-04-07</th>\n",
       "      <td>60.0827</td>\n",
       "      <td>56.4369</td>\n",
       "      <td>70.3655</td>\n",
       "      <td>10.2828</td>\n",
       "      <td>0.3879</td>\n",
       "      <td>0.5429</td>\n",
       "    </tr>\n",
       "  </tbody>\n",
       "</table>\n",
       "</div>"
      ],
      "text/plain": [
       "                EUR      USD      GBP  GBP-EUR  $\\Delta$ EUR  $\\Delta$ USD\n",
       "DATE                                                                      \n",
       "2017-04-01  59.8107  55.9606  69.7605   9.9498           NaN           NaN\n",
       "2017-04-04  59.8953  56.1396  70.3429  10.4476        0.0846        0.1790\n",
       "2017-04-05  60.2427  56.5553  70.3548  10.1121        0.3474        0.4157\n",
       "2017-04-06  59.6948  55.8940  69.4986   9.8038       -0.5479       -0.6613\n",
       "2017-04-07  60.0827  56.4369  70.3655  10.2828        0.3879        0.5429"
      ]
     },
     "execution_count": 25,
     "metadata": {},
     "output_type": "execute_result"
    }
   ],
   "source": [
    "df['$\\Delta$ EUR'] = df['EUR'] - df['EUR'].shift(1)\n",
    "df['$\\Delta$ USD'] = df['USD'] - df['USD'].shift(1)\n",
    "df.head()"
   ]
  },
  {
   "attachments": {},
   "cell_type": "markdown",
   "metadata": {},
   "source": [
    "Индексация осуществляется  с помощью свойств **.loc** и **.iloc**. Допустим, мы хотим получить новый `DataFrame`, состоящий из строк, где изменение доллара и евро c прошлого дня отрицательные\n",
    "\n",
    "索引是使用**.loc**和**.iloc**属性完成的。假设我们想得到一个新的 `DataFrame`，其中有几行美元和欧元的变化是负数的"
   ]
  },
  {
   "cell_type": "code",
   "execution_count": 26,
   "metadata": {},
   "outputs": [
    {
     "data": {
      "text/html": [
       "<div>\n",
       "<style scoped>\n",
       "    .dataframe tbody tr th:only-of-type {\n",
       "        vertical-align: middle;\n",
       "    }\n",
       "\n",
       "    .dataframe tbody tr th {\n",
       "        vertical-align: top;\n",
       "    }\n",
       "\n",
       "    .dataframe thead th {\n",
       "        text-align: right;\n",
       "    }\n",
       "</style>\n",
       "<table border=\"1\" class=\"dataframe\">\n",
       "  <thead>\n",
       "    <tr style=\"text-align: right;\">\n",
       "      <th></th>\n",
       "      <th>EUR</th>\n",
       "      <th>USD</th>\n",
       "      <th>GBP</th>\n",
       "      <th>GBP-EUR</th>\n",
       "      <th>$\\Delta$ EUR</th>\n",
       "      <th>$\\Delta$ USD</th>\n",
       "    </tr>\n",
       "    <tr>\n",
       "      <th>DATE</th>\n",
       "      <th></th>\n",
       "      <th></th>\n",
       "      <th></th>\n",
       "      <th></th>\n",
       "      <th></th>\n",
       "      <th></th>\n",
       "    </tr>\n",
       "  </thead>\n",
       "  <tbody>\n",
       "    <tr>\n",
       "      <th>2017-04-06</th>\n",
       "      <td>59.6948</td>\n",
       "      <td>55.8940</td>\n",
       "      <td>69.4986</td>\n",
       "      <td>9.8038</td>\n",
       "      <td>-0.5479</td>\n",
       "      <td>-0.6613</td>\n",
       "    </tr>\n",
       "    <tr>\n",
       "      <th>2017-04-12</th>\n",
       "      <td>60.3042</td>\n",
       "      <td>56.9552</td>\n",
       "      <td>70.7384</td>\n",
       "      <td>10.4342</td>\n",
       "      <td>-0.4427</td>\n",
       "      <td>-0.4344</td>\n",
       "    </tr>\n",
       "    <tr>\n",
       "      <th>2017-04-13</th>\n",
       "      <td>60.2631</td>\n",
       "      <td>56.7556</td>\n",
       "      <td>70.9502</td>\n",
       "      <td>10.6871</td>\n",
       "      <td>-0.0411</td>\n",
       "      <td>-0.1996</td>\n",
       "    </tr>\n",
       "    <tr>\n",
       "      <th>2017-04-15</th>\n",
       "      <td>59.7791</td>\n",
       "      <td>56.2945</td>\n",
       "      <td>70.4413</td>\n",
       "      <td>10.6622</td>\n",
       "      <td>-0.5076</td>\n",
       "      <td>-0.3074</td>\n",
       "    </tr>\n",
       "  </tbody>\n",
       "</table>\n",
       "</div>"
      ],
      "text/plain": [
       "                EUR      USD      GBP  GBP-EUR  $\\Delta$ EUR  $\\Delta$ USD\n",
       "DATE                                                                      \n",
       "2017-04-06  59.6948  55.8940  69.4986   9.8038       -0.5479       -0.6613\n",
       "2017-04-12  60.3042  56.9552  70.7384  10.4342       -0.4427       -0.4344\n",
       "2017-04-13  60.2631  56.7556  70.9502  10.6871       -0.0411       -0.1996\n",
       "2017-04-15  59.7791  56.2945  70.4413  10.6622       -0.5076       -0.3074"
      ]
     },
     "execution_count": 26,
     "metadata": {},
     "output_type": "execute_result"
    }
   ],
   "source": [
    "df.loc[(df['$\\Delta$ USD'] < 0) & (df['$\\Delta$ EUR'] < 0)]"
   ]
  },
  {
   "attachments": {},
   "cell_type": "markdown",
   "metadata": {},
   "source": [
    "Если к данным нужно обратиться по номеру строки, то используется свойство **.iloc**\n",
    "\n",
    "如果要按行号访问数据，那么就使用 **.iloc**属性。"
   ]
  },
  {
   "cell_type": "code",
   "execution_count": 27,
   "metadata": {
    "collapsed": false,
    "jupyter": {
     "outputs_hidden": false
    }
   },
   "outputs": [
    {
     "data": {
      "text/html": [
       "<div>\n",
       "<style scoped>\n",
       "    .dataframe tbody tr th:only-of-type {\n",
       "        vertical-align: middle;\n",
       "    }\n",
       "\n",
       "    .dataframe tbody tr th {\n",
       "        vertical-align: top;\n",
       "    }\n",
       "\n",
       "    .dataframe thead th {\n",
       "        text-align: right;\n",
       "    }\n",
       "</style>\n",
       "<table border=\"1\" class=\"dataframe\">\n",
       "  <thead>\n",
       "    <tr style=\"text-align: right;\">\n",
       "      <th></th>\n",
       "      <th>EUR</th>\n",
       "      <th>USD</th>\n",
       "      <th>GBP</th>\n",
       "      <th>GBP-EUR</th>\n",
       "      <th>$\\Delta$ EUR</th>\n",
       "      <th>$\\Delta$ USD</th>\n",
       "    </tr>\n",
       "    <tr>\n",
       "      <th>DATE</th>\n",
       "      <th></th>\n",
       "      <th></th>\n",
       "      <th></th>\n",
       "      <th></th>\n",
       "      <th></th>\n",
       "      <th></th>\n",
       "    </tr>\n",
       "  </thead>\n",
       "  <tbody>\n",
       "    <tr>\n",
       "      <th>2017-04-01</th>\n",
       "      <td>59.8107</td>\n",
       "      <td>55.9606</td>\n",
       "      <td>69.7605</td>\n",
       "      <td>9.9498</td>\n",
       "      <td>NaN</td>\n",
       "      <td>NaN</td>\n",
       "    </tr>\n",
       "    <tr>\n",
       "      <th>2017-04-04</th>\n",
       "      <td>59.8953</td>\n",
       "      <td>56.1396</td>\n",
       "      <td>70.3429</td>\n",
       "      <td>10.4476</td>\n",
       "      <td>0.0846</td>\n",
       "      <td>0.179</td>\n",
       "    </tr>\n",
       "  </tbody>\n",
       "</table>\n",
       "</div>"
      ],
      "text/plain": [
       "                EUR      USD      GBP  GBP-EUR  $\\Delta$ EUR  $\\Delta$ USD\n",
       "DATE                                                                      \n",
       "2017-04-01  59.8107  55.9606  69.7605   9.9498           NaN           NaN\n",
       "2017-04-04  59.8953  56.1396  70.3429  10.4476        0.0846         0.179"
      ]
     },
     "execution_count": 27,
     "metadata": {},
     "output_type": "execute_result"
    }
   ],
   "source": [
    "df.iloc[0:2]"
   ]
  },
  {
   "attachments": {},
   "cell_type": "markdown",
   "metadata": {},
   "source": [
    "`Pandas` имеет большое количество функций для подсчет статистических характеристик наших данных. Например, посчитаем коэффицент корреляции между значениями доллара и евро\n",
    "\n",
    "`Pandas`有许多函数来计算我们数据的统计特征。例如，让我们计算一下美元和欧元价值之间的相关系数"
   ]
  },
  {
   "cell_type": "code",
   "execution_count": 28,
   "metadata": {
    "collapsed": false,
    "jupyter": {
     "outputs_hidden": false
    }
   },
   "outputs": [
    {
     "data": {
      "text/plain": [
       "0.9529946342029497"
      ]
     },
     "execution_count": 28,
     "metadata": {},
     "output_type": "execute_result"
    }
   ],
   "source": [
    "df['USD'].corr(df['EUR'])"
   ]
  },
  {
   "attachments": {},
   "cell_type": "markdown",
   "metadata": {},
   "source": [
    "Или математическое ожидание курсов валют或者汇率的数学期望值"
   ]
  },
  {
   "cell_type": "code",
   "execution_count": 29,
   "metadata": {
    "collapsed": false,
    "jupyter": {
     "outputs_hidden": false
    }
   },
   "outputs": [
    {
     "data": {
      "text/plain": [
       "USD    56.536664\n",
       "EUR    60.152264\n",
       "GBP    70.509236\n",
       "dtype: float64"
      ]
     },
     "execution_count": 29,
     "metadata": {},
     "output_type": "execute_result"
    }
   ],
   "source": [
    "df[['USD', 'EUR', 'GBP']].mean()"
   ]
  },
  {
   "attachments": {},
   "cell_type": "markdown",
   "metadata": {},
   "source": [
    "Можно сразу визуализировать наши данные, с помощью специальных функций (используется библиотека `matplotlib`)\n",
    "\n",
    "你可以直接将我们的数据可视化，使用特殊函数（使用`matplotlib`库）。"
   ]
  },
  {
   "attachments": {},
   "cell_type": "markdown",
   "metadata": {},
   "source": [
    "#### Визуализация视觉化"
   ]
  },
  {
   "cell_type": "code",
   "execution_count": 30,
   "metadata": {
    "collapsed": false,
    "jupyter": {
     "outputs_hidden": false
    }
   },
   "outputs": [
    {
     "data": {
      "text/plain": [
       "<AxesSubplot: xlabel='DATE'>"
      ]
     },
     "execution_count": 30,
     "metadata": {},
     "output_type": "execute_result"
    },
    {
     "data": {
      "image/png": "[encoded data removed]",
      "text/plain": [
       "<Figure size 640x480 with 1 Axes>"
      ]
     },
     "metadata": {},
     "output_type": "display_data"
    }
   ],
   "source": [
    "%matplotlib inline\n",
    "\n",
    "import seaborn as sns\n",
    "sns.set()\n",
    "\n",
    "\n",
    "df[['USD', 'EUR']].plot()"
   ]
  },
  {
   "attachments": {},
   "cell_type": "markdown",
   "metadata": {},
   "source": [
    "#### Сохранение保存"
   ]
  },
  {
   "attachments": {},
   "cell_type": "markdown",
   "metadata": {},
   "source": [
    "`DataFrame` можно сохранить в `CSV`-файл, `Excel` и в другие форматы:\n",
    "\n",
    "`DataFrame`可以被保存为 `CSV`文件、`Excel` 和其他格式。\n",
    "\n",
    "> df.to_csv('data/curr.csv')\n",
    "\n",
    "> df.to_excel('data/curr.xsl')"
   ]
  },
  {
   "cell_type": "code",
   "execution_count": 31,
   "metadata": {},
   "outputs": [
    {
     "data": {
      "text/html": [
       "<div>\n",
       "<style scoped>\n",
       "    .dataframe tbody tr th:only-of-type {\n",
       "        vertical-align: middle;\n",
       "    }\n",
       "\n",
       "    .dataframe tbody tr th {\n",
       "        vertical-align: top;\n",
       "    }\n",
       "\n",
       "    .dataframe thead th {\n",
       "        text-align: right;\n",
       "    }\n",
       "</style>\n",
       "<table border=\"1\" class=\"dataframe\">\n",
       "  <thead>\n",
       "    <tr style=\"text-align: right;\">\n",
       "      <th></th>\n",
       "      <th>EUR</th>\n",
       "      <th>USD</th>\n",
       "    </tr>\n",
       "  </thead>\n",
       "  <tbody>\n",
       "    <tr>\n",
       "      <th>2021-11-11</th>\n",
       "      <td>56.687113</td>\n",
       "      <td>54.785208</td>\n",
       "    </tr>\n",
       "    <tr>\n",
       "      <th>2021-11-12</th>\n",
       "      <td>57.807790</td>\n",
       "      <td>56.747019</td>\n",
       "    </tr>\n",
       "    <tr>\n",
       "      <th>2021-11-13</th>\n",
       "      <td>59.174395</td>\n",
       "      <td>55.951406</td>\n",
       "    </tr>\n",
       "    <tr>\n",
       "      <th>2021-11-14</th>\n",
       "      <td>55.612254</td>\n",
       "      <td>53.207822</td>\n",
       "    </tr>\n",
       "    <tr>\n",
       "      <th>2021-11-15</th>\n",
       "      <td>55.529648</td>\n",
       "      <td>47.664212</td>\n",
       "    </tr>\n",
       "    <tr>\n",
       "      <th>...</th>\n",
       "      <td>...</td>\n",
       "      <td>...</td>\n",
       "    </tr>\n",
       "    <tr>\n",
       "      <th>2022-11-06</th>\n",
       "      <td>73.727047</td>\n",
       "      <td>14.306070</td>\n",
       "    </tr>\n",
       "    <tr>\n",
       "      <th>2022-11-07</th>\n",
       "      <td>72.677445</td>\n",
       "      <td>15.436565</td>\n",
       "    </tr>\n",
       "    <tr>\n",
       "      <th>2022-11-08</th>\n",
       "      <td>75.694750</td>\n",
       "      <td>17.039110</td>\n",
       "    </tr>\n",
       "    <tr>\n",
       "      <th>2022-11-09</th>\n",
       "      <td>72.841523</td>\n",
       "      <td>13.761002</td>\n",
       "    </tr>\n",
       "    <tr>\n",
       "      <th>2022-11-10</th>\n",
       "      <td>69.848002</td>\n",
       "      <td>15.327941</td>\n",
       "    </tr>\n",
       "  </tbody>\n",
       "</table>\n",
       "<p>365 rows × 2 columns</p>\n",
       "</div>"
      ],
      "text/plain": [
       "                  EUR        USD\n",
       "2021-11-11  56.687113  54.785208\n",
       "2021-11-12  57.807790  56.747019\n",
       "2021-11-13  59.174395  55.951406\n",
       "2021-11-14  55.612254  53.207822\n",
       "2021-11-15  55.529648  47.664212\n",
       "...               ...        ...\n",
       "2022-11-06  73.727047  14.306070\n",
       "2022-11-07  72.677445  15.436565\n",
       "2022-11-08  75.694750  17.039110\n",
       "2022-11-09  72.841523  13.761002\n",
       "2022-11-10  69.848002  15.327941\n",
       "\n",
       "[365 rows x 2 columns]"
      ]
     },
     "execution_count": 31,
     "metadata": {},
     "output_type": "execute_result"
    }
   ],
   "source": [
    "import numpy as np\n",
    "l = 365\n",
    "\n",
    "eur = 60. + np.random.normal(0.0, 2., l).cumsum()\n",
    "usd = 55. + np.random.normal(0.0, 2., l).cumsum()\n",
    "\n",
    "df = pd.DataFrame({\n",
    "            \"EUR\": eur,\n",
    "            \"USD\":usd\n",
    "        }, \n",
    "        index=pd.date_range(\"2021-11-11\", periods=l, freq=\"1D\")\n",
    ")\n",
    "df"
   ]
  },
  {
   "cell_type": "code",
   "execution_count": 32,
   "metadata": {},
   "outputs": [
    {
     "data": {
      "text/html": [
       "<div>\n",
       "<style scoped>\n",
       "    .dataframe tbody tr th:only-of-type {\n",
       "        vertical-align: middle;\n",
       "    }\n",
       "\n",
       "    .dataframe tbody tr th {\n",
       "        vertical-align: top;\n",
       "    }\n",
       "\n",
       "    .dataframe thead th {\n",
       "        text-align: right;\n",
       "    }\n",
       "</style>\n",
       "<table border=\"1\" class=\"dataframe\">\n",
       "  <thead>\n",
       "    <tr style=\"text-align: right;\">\n",
       "      <th></th>\n",
       "      <th>EUR</th>\n",
       "      <th>USD</th>\n",
       "    </tr>\n",
       "  </thead>\n",
       "  <tbody>\n",
       "    <tr>\n",
       "      <th>2021-11-15</th>\n",
       "      <td>55.529648</td>\n",
       "      <td>47.664212</td>\n",
       "    </tr>\n",
       "    <tr>\n",
       "      <th>2021-11-14</th>\n",
       "      <td>55.612254</td>\n",
       "      <td>53.207822</td>\n",
       "    </tr>\n",
       "    <tr>\n",
       "      <th>2021-11-11</th>\n",
       "      <td>56.687113</td>\n",
       "      <td>54.785208</td>\n",
       "    </tr>\n",
       "    <tr>\n",
       "      <th>2021-11-16</th>\n",
       "      <td>57.176585</td>\n",
       "      <td>49.470493</td>\n",
       "    </tr>\n",
       "    <tr>\n",
       "      <th>2021-11-12</th>\n",
       "      <td>57.807790</td>\n",
       "      <td>56.747019</td>\n",
       "    </tr>\n",
       "    <tr>\n",
       "      <th>...</th>\n",
       "      <td>...</td>\n",
       "      <td>...</td>\n",
       "    </tr>\n",
       "    <tr>\n",
       "      <th>2022-04-24</th>\n",
       "      <td>107.591222</td>\n",
       "      <td>30.526691</td>\n",
       "    </tr>\n",
       "    <tr>\n",
       "      <th>2022-04-27</th>\n",
       "      <td>108.162280</td>\n",
       "      <td>32.559199</td>\n",
       "    </tr>\n",
       "    <tr>\n",
       "      <th>2022-04-26</th>\n",
       "      <td>108.389570</td>\n",
       "      <td>30.435763</td>\n",
       "    </tr>\n",
       "    <tr>\n",
       "      <th>2022-04-23</th>\n",
       "      <td>108.629260</td>\n",
       "      <td>30.393918</td>\n",
       "    </tr>\n",
       "    <tr>\n",
       "      <th>2022-04-25</th>\n",
       "      <td>109.280271</td>\n",
       "      <td>28.670193</td>\n",
       "    </tr>\n",
       "  </tbody>\n",
       "</table>\n",
       "<p>365 rows × 2 columns</p>\n",
       "</div>"
      ],
      "text/plain": [
       "                   EUR        USD\n",
       "2021-11-15   55.529648  47.664212\n",
       "2021-11-14   55.612254  53.207822\n",
       "2021-11-11   56.687113  54.785208\n",
       "2021-11-16   57.176585  49.470493\n",
       "2021-11-12   57.807790  56.747019\n",
       "...                ...        ...\n",
       "2022-04-24  107.591222  30.526691\n",
       "2022-04-27  108.162280  32.559199\n",
       "2022-04-26  108.389570  30.435763\n",
       "2022-04-23  108.629260  30.393918\n",
       "2022-04-25  109.280271  28.670193\n",
       "\n",
       "[365 rows x 2 columns]"
      ]
     },
     "execution_count": 32,
     "metadata": {},
     "output_type": "execute_result"
    }
   ],
   "source": [
    "df.sort_values(by=\"EUR\")"
   ]
  },
  {
   "cell_type": "code",
   "execution_count": null,
   "metadata": {},
   "outputs": [],
   "source": []
  }
 ],
 "metadata": {
  "kernelspec": {
   "display_name": "Python 3.10.8 64-bit",
   "language": "python",
   "name": "python3"
  },
  "language_info": {
   "codemirror_mode": {
    "name": "ipython",
    "version": 3
   },
   "file_extension": ".py",
   "mimetype": "text/x-python",
   "name": "python",
   "nbconvert_exporter": "python",
   "pygments_lexer": "ipython3",
   "version": "3.10.8 (tags/v3.10.8:aaaf517, Oct 11 2022, 16:50:30) [MSC v.1933 64 bit (AMD64)]"
  },
  "vscode": {
   "interpreter": {
    "hash": "a27408a912e1659601da116caee4e05fd6381c5653a5d3a4751b21f563f62057"
   }
  }
 },
 "nbformat": 4,
 "nbformat_minor": 4
}
