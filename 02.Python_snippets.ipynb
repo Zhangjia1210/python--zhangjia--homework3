{
 "cells": [
  {
   "cell_type": "markdown",
   "metadata": {},
   "source": [
    "# Python Code Snippets"
   ]
  },
  {
   "cell_type": "markdown",
   "metadata": {},
   "source": [
    "## Декораторы\n",
    "\n",
    "Функции в `Python` -  функции высшего порядка. Декораторы - это специальные функции, которые служат для временного изменения поведения других функций. Они принимают в качестве параметра старую функцию и возвращают новую. \n",
    "\n",
    "Декораторы позволяют подобный код:"
   ]
  },
  {
   "cell_type": "code",
   "execution_count": 1,
   "metadata": {},
   "outputs": [
    {
     "data": {
      "text/plain": [
       "46"
      ]
     },
     "execution_count": 1,
     "metadata": {},
     "output_type": "execute_result"
    }
   ],
   "source": [
    "def add(x: int, y: int) -> int:\n",
    "    return x + y\n",
    "\n",
    "def plus_one(old_func):\n",
    "    def new_func(x: int, y: int) -> int:\n",
    "        return old_func(x, y) + 1\n",
    "    \n",
    "    return new_func\n",
    "\n",
    "\n",
    "new_add = plus_one(add)\n",
    "new_add(5, 40)"
   ]
  },
  {
   "cell_type": "markdown",
   "metadata": {},
   "source": [
    "Переписать в виде"
   ]
  },
  {
   "cell_type": "code",
   "execution_count": 2,
   "metadata": {},
   "outputs": [
    {
     "data": {
      "text/plain": [
       "16"
      ]
     },
     "execution_count": 2,
     "metadata": {},
     "output_type": "execute_result"
    }
   ],
   "source": [
    "import functools\n",
    "\n",
    "def plus_one(old_func):\n",
    "    @functools.wraps(old_func)\n",
    "    def wrapper(*args, **kwargs):  \n",
    "        return old_func(*args, **kwargs) + 1\n",
    "    return wrapper\n",
    "\n",
    "@plus_one\n",
    "def add(x: int, y: int) -> int:\n",
    "    \"\"\"Docstring\"\"\"    \n",
    "    return x + y\n",
    "\n",
    "add(5, 10)"
   ]
  },
  {
   "cell_type": "markdown",
   "metadata": {},
   "source": [
    "Можно обратить внимание, что \"новая\" декорируемая функция аналогично обернута в декоратор \n",
    "```python  \n",
    "@functools.wraps \n",
    "```\n",
    "это позволяет сохранять метаинформацию (название, `docstring`)"
   ]
  },
  {
   "cell_type": "code",
   "execution_count": 3,
   "metadata": {},
   "outputs": [],
   "source": [
    "assert add.__name__ == \"add\"\n",
    "assert add.__doc__ == \"Docstring\""
   ]
  },
  {
   "cell_type": "markdown",
   "metadata": {},
   "source": [
    "## Контекстные менеджеры"
   ]
  },
  {
   "cell_type": "markdown",
   "metadata": {},
   "source": [
    "Контекстные менеджеры позволяют контролировать выделение и освобождение ресурсов с помощью специального оператора `with`.  Например для закрытие файлового дескриптора, освобождения блокировки, закрытия соединения с базой данных и т.д.\n",
    "\n",
    "Пример с файлом:\n",
    "```python\n",
    "with open('file.txt', 'w', encoding='utf-8') as f:\n",
    "    f.write('Hello\\n')\n",
    "\n",
    "```\n",
    "в заголовке оператора `with` создается объект файлового дескриптора, который автоматически закрывается при выходе из тела оператора."
   ]
  },
  {
   "cell_type": "markdown",
   "metadata": {},
   "source": [
    "Контекстный менеджер можно реализовать самостоятельно. Следующий код"
   ]
  },
  {
   "cell_type": "code",
   "execution_count": 4,
   "metadata": {},
   "outputs": [
    {
     "name": "stdout",
     "output_type": "stream",
     "text": [
      "Enter\n",
      "Exit\n"
     ]
    }
   ],
   "source": [
    "\n",
    "class MyContextMng(object):\n",
    "    def __init__(self, s):\n",
    "        self.s = s\n",
    "        pass\n",
    "\n",
    "    def __enter__(self):   \n",
    "        print('Enter')\n",
    "        return self.s\n",
    "\n",
    "    def __exit__(self, exception_type, exception_val, trace):\n",
    "        print('Exit')\n",
    "        return True\n",
    "    \n",
    "    \n",
    "with MyContextMng('Hello') as f:\n",
    "    #actions\n",
    "    pass\n"
   ]
  },
  {
   "cell_type": "markdown",
   "metadata": {},
   "source": [
    "приблизительное преобразуется в следующее"
   ]
  },
  {
   "cell_type": "code",
   "execution_count": 5,
   "metadata": {},
   "outputs": [
    {
     "name": "stdout",
     "output_type": "stream",
     "text": [
      "Enter\n",
      "Exit\n"
     ]
    }
   ],
   "source": [
    "tmp = MyContextMng('Hello')\n",
    "f = tmp.__enter__()\n",
    "try:   \n",
    "    actions\n",
    "    pass\n",
    "except:\n",
    "    pass\n",
    "finally:\n",
    "    tmp.__exit__(None, None, None)"
   ]
  },
  {
   "cell_type": "markdown",
   "metadata": {},
   "source": [
    "Написание контекстных менеджеров можно упростить с помощью декоратора `@contextmanager` и генераторов"
   ]
  },
  {
   "cell_type": "code",
   "execution_count": 6,
   "metadata": {},
   "outputs": [
    {
     "name": "stdout",
     "output_type": "stream",
     "text": [
      "Enter\n",
      "Exit\n"
     ]
    }
   ],
   "source": [
    "from contextlib import contextmanager\n",
    "\n",
    "@contextmanager\n",
    "def my_context(s):\n",
    "    print('Enter')\n",
    "    yield s\n",
    "    print('Exit')\n",
    "    \n",
    "with my_context('Hello') as f:\n",
    "    #actions\n",
    "    pass    "
   ]
  },
  {
   "cell_type": "markdown",
   "metadata": {},
   "source": [
    "## Операции с файлами"
   ]
  },
  {
   "cell_type": "markdown",
   "metadata": {},
   "source": [
    "#### Чтение файла"
   ]
  },
  {
   "cell_type": "code",
   "execution_count": 7,
   "metadata": {},
   "outputs": [
    {
     "name": "stdout",
     "output_type": "stream",
     "text": [
      "2017-04-01,59.8107\n"
     ]
    }
   ],
   "source": [
    "with open('data/eur.csv', 'r', encoding='utf-8') as f:\n",
    "    print(f.readline().strip())\n",
    "    for c, line in enumerate(f):                        \n",
    "        pass\n",
    "        "
   ]
  },
  {
   "cell_type": "code",
   "execution_count": 8,
   "metadata": {},
   "outputs": [
    {
     "name": "stdout",
     "output_type": "stream",
     "text": [
      "b'2017-04-01,59.8107\\n'\n",
      "2017-04-04,59.8953\n",
      "\n"
     ]
    }
   ],
   "source": [
    "with open('data/eur.csv', 'rb') as f:\n",
    "    print(f.readline()[:20])\n",
    "    print(f.readline().decode('utf-8')[:20])"
   ]
  },
  {
   "cell_type": "markdown",
   "metadata": {},
   "source": [
    "#### Список файлов в директории"
   ]
  },
  {
   "cell_type": "code",
   "execution_count": 9,
   "metadata": {},
   "outputs": [
    {
     "data": {
      "text/plain": [
       "['currencies.csv',\n",
       " 'eur.csv',\n",
       " 'faces.npy',\n",
       " 'lin_reg.txt',\n",
       " 'man.png',\n",
       " 'news.txt.gz',\n",
       " 'texts.zip',\n",
       " 'weather.csv']"
      ]
     },
     "execution_count": 9,
     "metadata": {},
     "output_type": "execute_result"
    }
   ],
   "source": [
    "import os\n",
    "\n",
    "os.listdir('data/')"
   ]
  },
  {
   "cell_type": "code",
   "execution_count": 10,
   "metadata": {},
   "outputs": [
    {
     "data": {
      "text/plain": [
       "'data/texts.zip'"
      ]
     },
     "execution_count": 10,
     "metadata": {},
     "output_type": "execute_result"
    }
   ],
   "source": [
    "os.path.join('data', 'texts.zip')"
   ]
  },
  {
   "cell_type": "markdown",
   "metadata": {},
   "source": [
    "#### Временные файлы\n",
    "\n",
    "Часто во время работы программы появляется необходимость сохранить какие-либо промежуточные данные во временный файл и потом его удалить. Для этих целей существуют два контекстных модуль  `tempfile`. Для примера, контекстный менеджер `tempfile.NamedTemporaryFile` создает именованный временный файл на входе (чаще всего в директории `/tmp` на Linux-системах и аналогичных директориях для временных файлов на других) и удаляет его на выходе. "
   ]
  },
  {
   "cell_type": "code",
   "execution_count": 11,
   "metadata": {},
   "outputs": [
    {
     "name": "stdout",
     "output_type": "stream",
     "text": [
      "['Hello world!\\n']\n"
     ]
    }
   ],
   "source": [
    "import tempfile\n",
    "\n",
    "with tempfile.NamedTemporaryFile() as fn:\n",
    "    with open(fn.name, 'w', encoding='utf-8') as f:\n",
    "        f.write('Hello world!\\n')\n",
    "        \n",
    "    with open(fn.name, 'r', encoding='utf-8') as f:\n",
    "        print(f.readlines())"
   ]
  },
  {
   "cell_type": "markdown",
   "metadata": {},
   "source": [
    "#### Чтение zip-архивов\n",
    "\n",
    "Встроенный модуль `zipfile` позволяет читать файлы в `zip`-архивах, тем самым избегать явной распаковки."
   ]
  },
  {
   "cell_type": "code",
   "execution_count": 12,
   "metadata": {},
   "outputs": [
    {
     "name": "stdout",
     "output_type": "stream",
     "text": [
      "0\t «Школа злословия» учит прикусить язык Сохранитс\n",
      "ют: приключенческая канва опиралась на отличное зн\n"
     ]
    }
   ],
   "source": [
    "import zipfile\n",
    "import io\n",
    "\n",
    "with zipfile.ZipFile('data/texts.zip', 'r') as zf:\n",
    "    with zf.open('texts.txt', 'r') as f:\n",
    "        f_unicode = io.TextIOWrapper(f, 'utf-8')\n",
    "        print(f_unicode.readline()[:50])\n",
    "        print(f.readline().decode('utf-8')[:50])"
   ]
  },
  {
   "cell_type": "markdown",
   "metadata": {},
   "source": [
    "## Коллекции и итераторы"
   ]
  },
  {
   "cell_type": "markdown",
   "metadata": {},
   "source": [
    "#### Модуль [itertools](https://docs.python.org/3/library/itertools.html)\n",
    "\n",
    "[itertools](https://docs.python.org/3/library/itertools.html) предоставляет различные утилиты для обработки коллекций и итераторов. \n"
   ]
  },
  {
   "cell_type": "markdown",
   "metadata": {},
   "source": [
    "Создание цепочки из итераторов"
   ]
  },
  {
   "cell_type": "code",
   "execution_count": 13,
   "metadata": {},
   "outputs": [
    {
     "data": {
      "text/plain": [
       "[1, 2, 1, 2, 3, 3, 5, 6, 1, 2]"
      ]
     },
     "execution_count": 13,
     "metadata": {},
     "output_type": "execute_result"
    }
   ],
   "source": [
    "import itertools\n",
    "\n",
    "def g():\n",
    "    yield 1\n",
    "    yield 2\n",
    "\n",
    "ch = itertools.chain(g(), [1, 2, 3], {3, 5, 6}, iter([1, 2]))\n",
    "list(ch)"
   ]
  },
  {
   "cell_type": "markdown",
   "metadata": {},
   "source": [
    "Группировка"
   ]
  },
  {
   "cell_type": "code",
   "execution_count": 14,
   "metadata": {},
   "outputs": [
    {
     "name": "stdout",
     "output_type": "stream",
     "text": [
      "True ['H']\n",
      "False ['e', 'l', 'l', 'o', ' ']\n",
      "True ['W']\n",
      "False ['o', 'r', 'l', 'd']\n"
     ]
    }
   ],
   "source": [
    "for k, v in itertools.groupby('Hello World', key=lambda x: x.isupper()):\n",
    "    print(k, list(v))"
   ]
  },
  {
   "cell_type": "markdown",
   "metadata": {},
   "source": [
    "Кроме того имеет смысл помнить о наличии встроенных функций `zip` и `enumerate`, которые могут быть использованы для одновременного обхода нескольких коллекций и введения счетчика элементов соответственно."
   ]
  },
  {
   "cell_type": "code",
   "execution_count": 15,
   "metadata": {},
   "outputs": [
    {
     "data": {
      "text/plain": [
       "[('а', 'a'), ('б', 'b'), ('в', 'c')]"
      ]
     },
     "execution_count": 15,
     "metadata": {},
     "output_type": "execute_result"
    }
   ],
   "source": [
    "list(zip(['а', 'б', 'в'], ['a', 'b', 'c']))"
   ]
  },
  {
   "cell_type": "code",
   "execution_count": 16,
   "metadata": {},
   "outputs": [
    {
     "data": {
      "text/plain": [
       "[(0, 'a'), (1, 'b'), (2, 'c')]"
      ]
     },
     "execution_count": 16,
     "metadata": {},
     "output_type": "execute_result"
    }
   ],
   "source": [
    "list(enumerate(['a', 'b', 'c']))"
   ]
  },
  {
   "cell_type": "code",
   "execution_count": 17,
   "metadata": {},
   "outputs": [
    {
     "data": {
      "text/plain": [
       "{0: 'a', 1: 'b', 2: 'c'}"
      ]
     },
     "execution_count": 17,
     "metadata": {},
     "output_type": "execute_result"
    }
   ],
   "source": [
    "lst = ['a', 'b', 'c']\n",
    "dict(enumerate(lst))"
   ]
  },
  {
   "cell_type": "markdown",
   "metadata": {},
   "source": [
    "#### Модуль [functools](https://docs.python.org/3/library/functools.html)\n",
    "\n",
    "`functools` предоставляет различные утилиты для работы с функциями "
   ]
  },
  {
   "cell_type": "markdown",
   "metadata": {},
   "source": [
    "Например `partial` позволяет уменьшить число аргументов функции, создав новую функцию на основе старой"
   ]
  },
  {
   "cell_type": "code",
   "execution_count": 18,
   "metadata": {},
   "outputs": [
    {
     "data": {
      "text/plain": [
       "15"
      ]
     },
     "execution_count": 18,
     "metadata": {},
     "output_type": "execute_result"
    }
   ],
   "source": [
    "from functools import partial\n",
    "\n",
    "add = lambda x, y: x + y\n",
    "foo = partial(add, y=5)\n",
    "foo(10)"
   ]
  },
  {
   "cell_type": "markdown",
   "metadata": {},
   "source": [
    "`lru_cache` позволяет запоминать результат идемпотентной функции с помощью  [LRU](https://ru.wikipedia.org/wiki/%D0%90%D0%BB%D0%B3%D0%BE%D1%80%D0%B8%D1%82%D0%BC%D1%8B_%D0%BA%D1%8D%D1%88%D0%B8%D1%80%D0%BE%D0%B2%D0%B0%D0%BD%D0%B8%D1%8F)-кэша"
   ]
  },
  {
   "cell_type": "code",
   "execution_count": 19,
   "metadata": {},
   "outputs": [
    {
     "name": "stdout",
     "output_type": "stream",
     "text": [
      "CPU times: user 1.41 ms, sys: 239 µs, total: 1.65 ms\n",
      "Wall time: 5.01 s\n",
      "CPU times: user 4 µs, sys: 0 ns, total: 4 µs\n",
      "Wall time: 8.11 µs\n"
     ]
    },
    {
     "data": {
      "text/plain": [
       "400"
      ]
     },
     "execution_count": 19,
     "metadata": {},
     "output_type": "execute_result"
    }
   ],
   "source": [
    "from functools import lru_cache\n",
    "from time import sleep\n",
    "\n",
    "@lru_cache(maxsize=5)\n",
    "def heavy_stateless_computations(param):\n",
    "    sleep(5)\n",
    "    return param ** 2\n",
    "\n",
    "%time heavy_stateless_computations(20)\n",
    "%time heavy_stateless_computations(20)"
   ]
  },
  {
   "cell_type": "markdown",
   "metadata": {},
   "source": [
    "#### Модуль [collections](https://docs.python.org/3/library/collections.html)\n",
    "\n",
    "Модуль предоставляет различные улучшения к стандартным коллекциям. Например, `defaultdict` позволяет создать словарь, в котором значение для новых ключей будет создаваться автоматически, как результат работы функции обратного вызова. "
   ]
  },
  {
   "cell_type": "code",
   "execution_count": 20,
   "metadata": {},
   "outputs": [
    {
     "data": {
      "text/plain": [
       "defaultdict(<function __main__.<lambda>()>, {'word1': [1, 2], 'word2': [3]})"
      ]
     },
     "execution_count": 20,
     "metadata": {},
     "output_type": "execute_result"
    }
   ],
   "source": [
    "from collections import defaultdict\n",
    "\n",
    "d = defaultdict(lambda: []) # можно просто defaultdict(list)\n",
    "d['word1'].append(1)\n",
    "d['word1'].append(2)\n",
    "d['word2'].append(3)\n",
    "d"
   ]
  },
  {
   "cell_type": "markdown",
   "metadata": {},
   "source": [
    "`Counter` позволяет вести подсчет каких-то элементов."
   ]
  },
  {
   "cell_type": "code",
   "execution_count": 21,
   "metadata": {},
   "outputs": [
    {
     "data": {
      "text/plain": [
       "Counter({'word1': 6, 'word2': 2, 'word3': 4})"
      ]
     },
     "execution_count": 21,
     "metadata": {},
     "output_type": "execute_result"
    }
   ],
   "source": [
    "from collections import Counter\n",
    "\n",
    "c = Counter()\n",
    "c['word1'] += 1\n",
    "c['word2'] += 2\n",
    "c.update({'word1': 5, 'word3': 4})\n",
    "c"
   ]
  },
  {
   "cell_type": "markdown",
   "metadata": {},
   "source": [
    "полезное свойство - получение наиболее частотных ключей"
   ]
  },
  {
   "cell_type": "code",
   "execution_count": 22,
   "metadata": {},
   "outputs": [
    {
     "data": {
      "text/plain": [
       "[('word1', 6), ('word3', 4)]"
      ]
     },
     "execution_count": 22,
     "metadata": {},
     "output_type": "execute_result"
    }
   ],
   "source": [
    "c.most_common(2)"
   ]
  },
  {
   "cell_type": "code",
   "execution_count": 23,
   "metadata": {},
   "outputs": [
    {
     "name": "stdout",
     "output_type": "stream",
     "text": [
      "[5, 4, 3, 2, 1] [5, 4, 3, 2, 1]\n"
     ]
    }
   ],
   "source": [
    "from collections import OrderedDict\n",
    "\n",
    "lst = [(5 - x, x) for x in range(5)]\n",
    "d = dict(lst)\n",
    "od = OrderedDict(lst)\n",
    "print(list(d.keys()), list(od.keys()))"
   ]
  },
  {
   "cell_type": "markdown",
   "metadata": {},
   "source": [
    "## Сериализация\n",
    "\n",
    "Сериализация - представление структуры данных в некотором виде виде, удобным для дальнейшего хранения этой структуры в файле или передачи (например по сети). В `Python` существует стандартный механизм сериализации - модуль `pickle`. Так же возможно сохранение базовых объектов в формате `json`. \n",
    "\n",
    "В данном примере сначала создаются временные файлы, куда записывается представление объектов в бинарном виде и в `json`. Затем это представление восстанавливается. "
   ]
  },
  {
   "cell_type": "code",
   "execution_count": 24,
   "metadata": {},
   "outputs": [
    {
     "name": "stdout",
     "output_type": "stream",
     "text": [
      "{'hello': [1, 2, 3], 'world': [4, 5, 6]}\n",
      "{'hello': [1, 2, 3], 'world': [4, 5, 6]}\n"
     ]
    }
   ],
   "source": [
    "import tempfile\n",
    "import pickle\n",
    "import json\n",
    "\n",
    "obj = {'hello' : [1, 2, 3], 'world': [4, 5, 6]}\n",
    "\n",
    "with tempfile.NamedTemporaryFile() as fn:\n",
    "    with open(fn.name, 'wb') as f:\n",
    "        pickle.dump(obj, f)\n",
    "    print(pickle.load(open(fn.name, 'rb')))\n",
    "    \n",
    "with tempfile.NamedTemporaryFile() as fn:\n",
    "    with open(fn.name, 'w') as f:\n",
    "        json.dump(obj, f)\n",
    "    print(json.load(open(fn.name, 'r')))    "
   ]
  },
  {
   "cell_type": "markdown",
   "metadata": {},
   "source": [
    "Аналогичным образом можно сохранить, например, экземпляры `dataclass`'ов"
   ]
  },
  {
   "cell_type": "code",
   "execution_count": 25,
   "metadata": {},
   "outputs": [
    {
     "data": {
      "text/plain": [
       "[Person(name='Ivan', year='1975'), Person(name='Petr', year='1985')]"
      ]
     },
     "execution_count": 25,
     "metadata": {},
     "output_type": "execute_result"
    }
   ],
   "source": [
    "from dataclasses import dataclass\n",
    "\n",
    "@dataclass\n",
    "class Person:\n",
    "    name: str\n",
    "    year: int\n",
    "\n",
    "persons = [Person(\"Ivan\", \"1975\"), Person(\"Petr\", \"1985\")]\n",
    "\n",
    "serialized = pickle.dumps(persons)\n",
    "recovered = pickle.loads(serialized)\n",
    "recovered"
   ]
  }
 ],
 "metadata": {
  "kernelspec": {
   "display_name": "Python 3",
   "language": "python",
   "name": "python3"
  },
  "language_info": {
   "codemirror_mode": {
    "name": "ipython",
    "version": 3
   },
   "file_extension": ".py",
   "mimetype": "text/x-python",
   "name": "python",
   "nbconvert_exporter": "python",
   "pygments_lexer": "ipython3",
   "version": "3.10.8 (tags/v3.10.8:aaaf517, Oct 11 2022, 16:50:30) [MSC v.1933 64 bit (AMD64)]"
  },
  "vscode": {
   "interpreter": {
    "hash": "a27408a912e1659601da116caee4e05fd6381c5653a5d3a4751b21f563f62057"
   }
  }
 },
 "nbformat": 4,
 "nbformat_minor": 4
}
