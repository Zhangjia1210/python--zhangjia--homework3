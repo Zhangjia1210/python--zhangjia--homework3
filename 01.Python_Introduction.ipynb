{
 "cells": [
  {
   "cell_type": "markdown",
   "metadata": {
    "slideshow": {
     "slide_type": "slide"
    }
   },
   "source": [
    "# Введение в Python\n",
    "\n",
    "`Python` - скриптовый, мультипарадигменный (ООП, с элементами ФП и пр.) язык программирования общего назначения.\n",
    "\n",
    "Python. Общая тенденция возрастающее доминирование для Data\n",
    "Science (65% по данным KDNaggets). В области Deep Learning полное\n",
    "доминирование.\n",
    "\n",
    "* простой синтаксис\n",
    "* язык общего назначения\n",
    "* разрабатывается сообществом, свободное программное обеспечение (спецификация и `CPython`)\n",
    "* библиотеки для анализа данных и глубокого обучения\n",
    "* основные области применения: \n",
    "    - web-разработка\n",
    "    - скрипты автоматизации\n",
    "    - анализа данных и машинное обучение"
   ]
  },
  {
   "cell_type": "markdown",
   "metadata": {},
   "source": [
    "## Реализации Python\n",
    "\n",
    "**CPython**\n",
    "* эталонная реализация\n",
    "* исторические проблемы, например `Global Interpreter Lock` (`GIL`)\n",
    "* нативные расширения \n",
    "\n",
    "**PyPy**\n",
    "* `Just-in-time compilation` (`JIT`)\n",
    "* в общем случае быстрее\n",
    "* нет совместимости со многими библиотеками для `CPython`\n",
    "\n",
    "**Jython**\n",
    "* `JVM`\n",
    "\n",
    "**GraalPython**\n",
    "* `GraalVM`\n"
   ]
  },
  {
   "cell_type": "markdown",
   "metadata": {
    "slideshow": {
     "slide_type": "slide"
    }
   },
   "source": [
    "## Особенности (`СPython`)\n",
    "\n",
    "* **строгая** **динамическая** типизация\n",
    "* автоматическое управление памятью\n",
    "\n",
    "Явные преимущества:\n",
    "* интерпретируемость, нет необходимости компилировать код (+/-)\n",
    "* развитая стандартная библиотека\n",
    "* большое количество сторонних библиотек\n",
    "* простота, отлично подходит для быстрого прототипирования\n",
    "\n",
    "Недостатки:\n",
    "* проблемы с производительности в определенных сценариях \n",
    "* проблемы с статическим анализом кода (как следствие - верификация, инструменты рефакторинга)\n",
    "* исторические проблемы, связанные с дизайном языка (переход от **Python2** к **Python3**)"
   ]
  },
  {
   "cell_type": "markdown",
   "metadata": {
    "slideshow": {
     "slide_type": "slide"
    }
   },
   "source": [
    "### Инфраструктура \n",
    "\n",
    "- **[Python Software Foundation](https://www.python.org/psf-landing/)**\n",
    "- **Python 2** устарел и не поддерживается\n",
    "- **[PyPi](https://pypi.org)** - репозиторий пакетов\n",
    "    *  NB: безопасность\n",
    "- **[PEP](https://peps.python.org/)** - **Python Enhancement Proposal**\n",
    "- Система версионирования\n",
    "    - текущая (на `09.2022`) версия `3.10.7`\n",
    "    - расписание выхода версий регламентируется соответствующими `PEP` (например `PEP-619`)\n",
    "    - поддержка (исправления и исправления уязвимостей) 2-5 лет"
   ]
  },
  {
   "cell_type": "markdown",
   "metadata": {
    "slideshow": {
     "slide_type": "slide"
    }
   },
   "source": [
    "## Статическая и динамическая типизация\n",
    "\n",
    "```cpp\n",
    "// Статическая типизация\n",
    "int a = 5;\n",
    "a = \"hello\"; // oops\n",
    "```\n",
    "\n",
    "```python\n",
    "# Динамическая типизация\n",
    "a = 5\n",
    "a = \"hello\" # Ok\n",
    "```\n",
    "\n",
    "Проблема:\n",
    "\n",
    "```python\n",
    "def add(a, b):\n",
    "    return a + b\n",
    "\n",
    "add(5, 10)\n",
    "add(\"5\", \"10\")\n",
    "```"
   ]
  },
  {
   "cell_type": "markdown",
   "metadata": {
    "slideshow": {
     "slide_type": "slide"
    }
   },
   "source": [
    "## Строгая и слабая типизация\n",
    "\n",
    "```python\n",
    "# Строгая типизация\n",
    "a = \"10\"\n",
    "b = a + 5 #ошибка\n",
    "```\n",
    "```python\n",
    "# Слабая типизация\n",
    "a = \"10\"\n",
    "a = a + 5 # ???? 15? \"105\"?\n",
    "```"
   ]
  },
  {
   "cell_type": "markdown",
   "metadata": {
    "slideshow": {
     "slide_type": "slide"
    }
   },
   "source": [
    "## Python для научных вычислений и машинного обучения \n",
    "\n",
    "Язык общего назначения, но с помощью сторонних библиотек можно использовать качестве альтернативы для `MATLAB`, `Mathematica`, `R`\n",
    "\n",
    "Преимущества:\n",
    "* свободное программное обеспечение\n",
    "* большой выбор нативных библиотек, где `Python` выступает в качестве (`Domain-specific language`) `DSL`\n",
    "* можно создавать системы, пригодные для промышленного использования\n",
    "* многие библиотеки написаны на `C` \n",
    "* есть инфраструктура для быстрого создания обертки над низкоуровневыми библиотеками\n",
    "* распределенные вычисления (`Dask`, `Ray`, `PySpark`, ...)\n",
    "\n",
    "Недостатки:\n",
    "* по удобству может уступать специализированным языкам программирования (например, **R**)\n",
    "* ограничения интерпретатора `CPython` (отсутствие JIT, GIL и т.д.)"
   ]
  },
  {
   "cell_type": "markdown",
   "metadata": {
    "slideshow": {
     "slide_type": "slide"
    }
   },
   "source": [
    "### Некоторые библиотеки \n",
    "\n",
    "* **[numpy](https://pypi.python.org/pypi/numpy)** - линейная алгебра, случайные числа, базовые операции\n",
    "* **[scipy](https://pypi.python.org/pypi/scipy)** - статистика, численные методы и многое другое\n",
    "* **[tensorflow](https://tensorflow.org)** - машинное обучение, автоматическое дифференцирование, нейронные сети\n",
    "* **[pytorch](https://pytorch.org)** - машинное обучение, автоматическое дифференцирование, нейронные сети\n",
    "* **[matplotlib](https://pypi.python.org/pypi/matplotlib)** - рисование графиков, визуализация\n",
    "* **[plotly](https://github.com/plotly/plotly.py)** - рисование графиков, визуализация\n",
    "* **[pandas](https://pypi.python.org/pypi/pandas)** - работа с данными в стиле датафреймов `R`\n",
    "* **[simpy](http://www.sympy.org/en/index.html)** - символьные вычисления\n",
    "* **[scikit-learn](http://scikit-learn.org)** - базовые алгоритмы машинного обучения\n",
    "* **[catboost](https://catboost.ai), [xgboost](https://xgboost.ai), [lightgbm](https://github.com/microsoft/LightGBM)** - градиентный бустинг\n",
    "* **[statsmodels](http://statsmodels.sourceforge.net)** - статистика, машинное обучение\n",
    "* **[pymc](http://pymc-devs.github.io/pymc)** - байесовское статистическое моделирование\n",
    "* **[networkx](https://pypi.python.org/pypi/networkx)** - работа с графами, визуализация, раскладка"
   ]
  },
  {
   "cell_type": "markdown",
   "metadata": {
    "slideshow": {
     "slide_type": "slide"
    }
   },
   "source": [
    "## Установка Python\n",
    "\n",
    "**Linux:** \n",
    "- можно использовать системный пакетный менеджер (apt, yum, pacman)\n",
    "    \n",
    "**Windows, Linux, Mac OS:**\n",
    "- [Anaconda Scientific Python Distribution](https://conda.io/projects/conda/en/latest/) \n",
    "\n",
    "**Windows:**\n",
    "- `WSL2`\n",
    "\n",
    "**Docker:**\n",
    "- https://hub.docker.com/_/python/\n",
    "\n",
    "Проверка версий: \n",
    "   \n",
    "    $ python3 --version"
   ]
  },
  {
   "cell_type": "markdown",
   "metadata": {},
   "source": [
    "## Командная строка Linux\n",
    "\n",
    "**Компьютерный терминал** - аппаратное устройство, используемое для взаимодействия пользователя с компьютером (что-то из истории вычислительной техники).\n",
    "\n",
    "**Эмулятор терминала**, **tty** - программа, которая эмулирует терминал компьютера внутри используя средства операционной системы\n",
    "\n",
    "**Shell (оболочка операционной системы)** - программа,  предоставляющая интерфейс взаимодействия операционной системы с пользователем. Может быть графической или представлять собой текстовый интерфейс командной строки (**CLI**). \n",
    "\n",
    "Примеры **Unix shell**'ов: `sh`, `csh`, `bash`, `zsh`, `fish`. \n",
    "\n",
    "Windows: `PowerShell`, `CMD.EXE`"
   ]
  },
  {
   "cell_type": "markdown",
   "metadata": {},
   "source": [
    "### Командные оболочки Linux\n",
    "\n",
    "Обычно ввод командной строки выглядит приблизительно так:\n",
    "\n",
    ">user@host:directory$\n",
    "\n",
    "**user** - имя текущего пользователя\n",
    "\n",
    "**host** - имя компьютера \n",
    "\n",
    "**directory** - текущая директория\n",
    "\n",
    "<img src=\"img/bash.png\" style=\"width:50%\"></img>"
   ]
  },
  {
   "cell_type": "markdown",
   "metadata": {},
   "source": [
    "### Некоторые команды в Unix shell\n",
    "\n",
    "Узнать текущий шелл\n",
    "\n",
    "> echo $SHELL\n",
    "\n",
    "Работа с файловой системой:\n",
    "`cd`, `ls`, `cp`, `mv`, `rm`, `pwd`, `mkdir`\n",
    "\n",
    "Работа с файлами:\n",
    "`cat`, `head`, `tail`, `less`, `grep`, `wc`\n",
    "\n",
    "Конвейер команд (pipe):\n",
    "\n",
    "> cat a.txt | grep \"Hello\" | wc -l"
   ]
  },
  {
   "cell_type": "markdown",
   "metadata": {
    "slideshow": {
     "slide_type": "slide"
    }
   },
   "source": [
    "## REPL\n",
    "\n",
    "**REPL** (read-eval-print loop) - \"чтение-выполнение-вывод 读-执行-输出\". Простая интерактивная консольная среда выполнения.一个简单的交互式控制台运行环境。\n",
    "\n",
    "<img src=\"img/repl.jpg\" style=\"width:35%\"></img>\n",
    "\n",
    "* **read** читает одно выражение из командной строки 从命令行中读取一个表达式\n",
    "* **eval** вычисляет значение выражения 计算一个表达式的值\n",
    "* **print** печатает результат выражения пользователю 将表达式的结果打印给用户\n",
    "\n",
    "Парадигма разработки: 发展范式：\n",
    "* алгоритм разрабатывается небольшими порциями 该算法是在小批量中开发的\n",
    "* сразу тестируется 立即测试\n",
    "* отпадает необходимость интерактивной отладки 不需要进行交互式调试"
   ]
  },
  {
   "cell_type": "markdown",
   "metadata": {},
   "source": [
    "## Jupyter Notebooks\n",
    "\n",
    "* Физически это файл с расширением `ipynb`\n",
    "* Ячейки\n",
    "    - в каждой ячейке может быть текст, код или что-нибудь ещё в зависимости от рисширений\n",
    "    - ячейку можно запустить и сразу получить результат\n",
    "* графический или интерактивный вывод    \n",
    "* не обязательно Python (можно `R`, `Julia`, `Kotlin`). Расширяемая поддержка c помощью т.н. **ядер**\n",
    "* **JupyterLab**\n",
    "    - установка:  $ pip install jupyterlab\n",
    "    - запуск: $ jupyter lab\n",
    "* **Jupyter Notebook**\n",
    "    - установка: $ pip install notebook\n",
    "    - запуск: $ jupyter notebook\n"
   ]
  },
  {
   "cell_type": "markdown",
   "metadata": {},
   "source": [
    "### Рабочая среда Jupyter\n",
    "\n",
    "* WEB-браузер (**Jupyter Notebook** или **Jupyter lab**)\n",
    "    - ограничения при анализе кода\n",
    "* **VSCode**\n",
    "    - субъективно самая удобная среда по состоянию на `2022`\n",
    "    - могут быть проблемы с расширениями\n",
    "* PyCharm\n",
    "    - поддержка Jupyter есть только в Professional версии\n"
   ]
  },
  {
   "cell_type": "markdown",
   "metadata": {},
   "source": [
    "### Почему Jupyter Notebook?\n",
    "\n",
    "- среда для интерактивного анализа данных и научных вычислений\n",
    "- набор дополнений, возможность документирования\n",
    "- богатые возможности визуализации\n",
    "- интеграция с `pandas`, `matplotlib` и другими библиотеками "
   ]
  },
  {
   "cell_type": "markdown",
   "metadata": {},
   "source": [
    "### Эффективная работа с Jupyter Notebook\n",
    "\n",
    "- горячие клавиши (вставка/удаление/запуск ячеек)\n",
    "- правила форматирования кода\n",
    "- одна ячейка - одно логическое действие, один шаг по обработке данных\n",
    "- правила гигиены:\n",
    "    * контроль версий\n",
    "    * постоянное документирование"
   ]
  },
  {
   "cell_type": "markdown",
   "metadata": {},
   "source": [
    "### Горячие клавиши\n",
    "- `Ctrl+Enter` запустить ячейку\n",
    "- `Ctrl+Shift` запустить ячейку и переместиться вниз\n",
    "- `Esc+m` текстовая ячейка\n",
    "- `Esc+y` ячейка с кодом\n",
    "- `Ctrl+m+b` вставить новую ячейку за текущей ячейкой\n",
    "- `Ctrl+m+a` вставить новую ячейку перед текущей ячейкой\n",
    "- `Ctrl+m+x` удалить текущую ячейку"
   ]
  },
  {
   "cell_type": "markdown",
   "metadata": {},
   "source": [
    "### \"Облачные\" ноутбуки\n",
    "- **Google Colaboratory** https://colab.research.google.com/\n",
    "    * Доступ GPU и TPU\n",
    "    * Интеграция с google drive\n",
    "- **Kaggle Notebooks** https://www.kaggle.com/code\n",
    "- **Azure Machine Learning** https://ml.azure.com\n",
    "- **Github Codespaces** https://docs.github.com/en/codespaces"
   ]
  },
  {
   "cell_type": "markdown",
   "metadata": {},
   "source": [
    "# Синтаксис и семантика Python\n",
    "\n",
    "**Python Zen**:\n",
    "\n",
    "```python\n",
    "import this\n",
    "```\n",
    "\n",
    "    Beautiful is better than ugly.\n",
    "    Explicit is better than implicit.\n",
    "    Simple is better than complex.\n",
    "    Complex is better than complicated.\n",
    "    Flat is better than nested.\n",
    "    Sparse is better than dense.\n",
    "    Readability counts.\n",
    "    Special cases aren't special enough to break the rules.\n",
    "    Although practicality beats purity.\n",
    "    Errors should never pass silently.\n",
    "    Unless explicitly silenced.\n",
    "    In the face of ambiguity, refuse the temptation to guess.\n",
    "    There should be one-- and preferably only one --obvious way to do it.\n",
    "    Although that way may not be obvious at first unless you're Dutch.\n",
    "    Now is better than never.\n",
    "    Although never is often better than *right* now.\n",
    "    If the implementation is hard to explain, it's a bad idea.\n",
    "    If the implementation is easy to explain, it may be a good idea.\n",
    "    Namespaces are one honking great idea -- let's do more of those!"
   ]
  },
  {
   "cell_type": "markdown",
   "metadata": {},
   "source": [
    "## Отступы\n",
    "\n",
    "В **Python** для задания блоков потока управления используются отступы, что отличает его от языков, где используются ключевые слова или специальные символы.\n",
    "\n",
    "```python\n",
    "if a == 5:\n",
    "    b = 2\n",
    "else:\n",
    "    b = 7\n",
    "    foo()\n",
    "```\n",
    "\n",
    "Нельзя смешивать табуляцию и пробелы. Рекомендуется использовать 4 пробела."
   ]
  },
  {
   "cell_type": "markdown",
   "metadata": {},
   "source": [
    "## Переменные \n",
    "\n",
    "Имена переменных в Python могут содержать буквы, цифры и `_`, начинаться должны с буквы (`_` в начале может имеет семантическую нагрузку). По соглашению, имена переменных начинаются с маленькой буквы, имена классов - с большой.\n",
    "\n",
    "Ключевые слова:\n",
    "\n",
    "    and, as, assert, break, class, continue, def, del, elif, else, except, \n",
    "    exec, finally, for, from, global, if, import, in, is, lambda, not, or,\n",
    "    pass, print, raise, return, try, while, with, yield"
   ]
  },
  {
   "cell_type": "markdown",
   "metadata": {},
   "source": [
    "## Встроенные типы"
   ]
  },
  {
   "cell_type": "markdown",
   "metadata": {},
   "source": [
    "### bool\n",
    "- два значения `True` и `False`\n",
    "- базовые логические операции `or`, `and`, `not`\n",
    "\n",
    "```python\n",
    "\n",
    "a = True\n",
    "b = False\n",
    "\n",
    "c = a or b\n",
    "\n",
    "print(c)\n",
    "\n",
    "```"
   ]
  },
  {
   "cell_type": "markdown",
   "metadata": {},
   "source": [
    "### int\n",
    "\n",
    "- immutable\n",
    "- поддерживается длинная арифметика (в **Python2** было два разных типа)\n",
    "\n",
    "```python\n",
    "a = 2 ** 200  # 1606938044258990275541962092341162602522202993782792835301376\n",
    "```\n",
    "\n",
    "- операция целочисленного деления - \"`//`\"\n",
    "- \"`/`\" конвертирует значения в числа с плавающей точкой\n",
    "\n",
    "```python\n",
    "\n",
    "2 // 5 # 0\n",
    "2 / 5 # 0.4\n",
    "\n",
    "```"
   ]
  },
  {
   "cell_type": "markdown",
   "metadata": {},
   "source": [
    "### str \n",
    "\n",
    "Представление строк:字符串表示：\n",
    "\n",
    "```python\n",
    "a = \"Hello World!\"\n",
    "\n",
    "a = 'Hello worlds'\n",
    "\n",
    "a = \"\"\" \n",
    "   Hello\n",
    "   world\n",
    " \"\"\""
   ]
  },
  {
   "cell_type": "markdown",
   "metadata": {},
   "source": [
    "#### Форматирование строк 行的格式化\n",
    "\n",
    "```python\n",
    "a = 2.1234\n",
    "c = 5\n",
    "\n",
    "b = \"Formatted numbers: %f, %d\" % (a, c)   # старый стиль\n",
    "b = \"Formatted numbers: {:.2}, {}\".format(a, c)  # новый стиль\n",
    "b = f\"Formatted numbers: {a:.2}, {b}\"  # f-строки\n",
    "```"
   ]
  },
  {
   "cell_type": "markdown",
   "metadata": {},
   "source": [
    "#### Операции со строками 对字符串的操作\n",
    "\n",
    "```python\n",
    "v: int  = s.find('<str>') # поиск первого вхождения 第一条搜索\n",
    "v: list = s.split('<str>') # разделить на строки 分成行\n",
    "v: str  = s.islower() # s.isupper(), s.isdigit(), s.isspace(), s.isalnum()\n",
    "v: str  = s.replace('<str>', '<str>')\n",
    "v: str  = s.lstrip()  # s.rstrip(), s.strip() - удалить пробельные символы по краям 移除边缘的空白处\n",
    "v: int  = s.count('<str>') # число вхождний подстроки 子串条目数\n",
    "v: bool = s.startswith('<str>') # s.endswith('<str>')\n",
    "v: str  = s.join(['<str>', '<str>', '<str>'])\n",
    "```"
   ]
  },
  {
   "cell_type": "markdown",
   "metadata": {},
   "source": [
    "#### Индексирование 编制索引\n",
    "\n",
    "```python\n",
    "\n",
    "s = 'Hello World!'\n",
    "len(s), s[0], s[-1]     # 12, 'H', '!'\n",
    "b = s[0:3] + s[-2:-1]   # 'Held' \n",
    "s[::-1], s[1:-1:2]   # '!dlroW olleH', 'el ol'\n",
    "```\n"
   ]
  },
  {
   "cell_type": "markdown",
   "metadata": {},
   "source": [
    "#### Кодировки 编码\n",
    "\n",
    "*Кодировка символов*, *символьная таблица* - однозначное отображение чисел и графических символов, в частности букв, иероглифов и пр., что позволяет передавать и хранить тексты с помощью вычислительной техники. *字符编码*，*字符表* - 数字和图形符号的一对一表示，特别是字母、象形文字等，使文本可以通过计算机技术进行传输和存储。\n",
    "\n",
    "Старые однобайтовые кодировки (`ASCII`, `Windows-1251`, `KOI-8R`) позволяли одновременно отображать ограниченное количество символов.旧的单字节编码（`ASCII`、`Windows-1251`、`KOI-8R`）允许同时显示有限数量的字符。\n",
    "\n",
    "`Unicode` - стандарт кодирования символов, существующих в большей части мировых систем письменности. Например символ **ѣ** имеет код `U+0463`\n",
    "\n",
    "Конкретное байтовое представление зависит от конкретной кодировки:\n",
    "\n",
    "- `UTF-8` - стандарт кодирования, позволяющий хранить и передавать символы Unicode, используя переменное количество байт (от 1 до 4)\n",
    "- `UTF-16` - стандарт кодирования, позволяющий хранить и передавать символы Unicode, используя 2 или 4 байта. \n",
    "- `UTF-32` - стандарт кодирования, позволяющий хранить и передавать символы Unicode, используя 4 байта. \n",
    "\n",
    "Стандарт `Unicode` содержит \"список комбинируемых диакритических знаков\", который позволяет изменять написание текста, добавляя к буквам различные диакритические символы:\n",
    "\n",
    "```python\n",
    "\n",
    "print(\"П\\u030aривет\")\n",
    "\n",
    "П̊ривет\n",
    "```"
   ]
  },
  {
   "cell_type": "markdown",
   "metadata": {},
   "source": [
    "#### UTF-8\n",
    "\n",
    "| First code point | Last code point |   Byte 1  |   Byte 2  |   Byte 3  |   Byte 4  |\n",
    "|:----------------:|:---------------:|:---------:|:---------:|:---------:|:---------:|\n",
    "|           U+0000 |          U+007F |  0xxxxxxx |           |           |           |\n",
    "|           U+0080 |          U+07FF |  110xxxxx |  10xxxxxx |           |           |\n",
    "|           U+0800 |          U+FFFF |  1110xxxx |  10xxxxxx |  10xxxxxx |           |\n",
    "|          U+10000 |        U+10FFFF |  11110xxx |  10xxxxxx |  10xxxxxx |  10xxxxxx |"
   ]
  },
  {
   "cell_type": "markdown",
   "metadata": {},
   "source": [
    "### bytes 字节"
   ]
  },
  {
   "cell_type": "markdown",
   "metadata": {},
   "source": [
    "Неизменяемая последовательность байт, интерфейс схож со строками, но байты не несут какой-то семантической нагрузки (не кодируют символы). Для удобства, содержимое отображается в кодировке `ASCII`.\n",
    "\n",
    "一个不可改变的字节序列，接口类似于字符串，但字节不携带任何语义负荷（它们不对字符进行编码）。为方便起见，内容是以`ASCII`编码显示的。\n",
    "\n",
    "```python\n",
    "b = b'Hello world'\n",
    "b = b'Привет мир' # error: bytes can only contain ASCII literal characters 错误：字节只能包含ASCII字面字符\n",
    "```"
   ]
  },
  {
   "cell_type": "markdown",
   "metadata": {},
   "source": [
    "```python\n",
    "b = bytes.fromhex('2Ef0 F1f2')    # b'.\\xf0\\xf1\\xf2'\n",
    "\n",
    "b = \"Привет мир\".encode(\"utf-8\")  \n",
    "b = \"Привет мир\".encode(\"utf-32\")\n",
    "b = \"Привет мир\".encode(\"windows-1251\") \n",
    "```"
   ]
  },
  {
   "cell_type": "markdown",
   "metadata": {},
   "source": [
    "### Списки 列表\n",
    "\n",
    "В `Python` есть базовые типы, которые кодируют последовательность элементов: `list`, `tuple`, `str`, `bytes`, `bytearray`, `range`. Многие их них следуют интерфейсу `collections.abc.Sequence`.\n",
    "\n",
    "在 `Python`中，有一些基本类型来编码项目的序列。`list`, `tuple`, `str`, `bytes`, `bytearray`, `range`.它们中的许多都遵循`collections.abc.Sequence`接口。\n",
    "\n",
    "Основные операции:基本操作：\n",
    "\n",
    "| Операция             | Действие                                                     |\n",
    "|----------------------|--------------------------------------------------------------|\n",
    "| x in s               | True, если элемент в коллекции 如果该项目是在一个集合中                              |\n",
    "| x not in s           | True, если элемент не в коллекции 如果该项目不在集合中                            |\n",
    "| s + t                | конкатинация s и t                                           |\n",
    "| s * n or n * s       | добавление s к самому себе n раз                             |\n",
    "| s[i]                 | i-й элемент                                                  |\n",
    "| s[i:j]               | срез с i до j                                                |\n",
    "| s[i:j:k]             | срез c i до j с шагом k                                      |\n",
    "| len(s)               | длина s                                                      |\n",
    "| min(s)               | меньший элемент                                              |\n",
    "| max(s)               | больший элемент                                              |\n",
    "| s.index(x[, i[, j]]) | индекс первого вохрождения x в s (опционально - между i и j) |\n",
    "| s.count(x)           | число вхождений x в s                                        |"
   ]
  },
  {
   "cell_type": "markdown",
   "metadata": {},
   "source": [
    "Список - `list`, это изменяемая последовательность элементов. Используется для хранения последовательности однородной по природе использования элементов.  Для задания списка существует специальный синтаксис:\n",
    "\n",
    "`list`，是一个可修改的元素序列。它用于存储一连串统一使用的元素。 有一种特殊的语法用于指定一个列表。\n",
    "\n",
    "```python3\n",
    "l = [1, 2, 3, None]\n",
    "```"
   ]
  },
  {
   "cell_type": "markdown",
   "metadata": {},
   "source": [
    "#### Основные операции над списками\n",
    "\n",
    "```python\n",
    "\n",
    "lst.append(5)          # добавление элемента в конец\n",
    "lst.extend([1, 2, 3])  # добавления коллекции в конец\n",
    "lst.remove(5)          # удалить первое вхождение\n",
    "lst.pop()              # удалить последний элемент\n",
    "lst.count(5)           # число элементов в списке\n",
    "lst.index(5)           # индекс первого элемент\n",
    "lst.insert(1, 5)       # вставить *el* на позицию *1*\n",
    "lst.clear()            # очистить список\n",
    "            \n",
    "lst += [1, 2, 4]       # extend\n",
    "```"
   ]
  },
  {
   "cell_type": "markdown",
   "metadata": {},
   "source": [
    "#### Кортежи 元组\n",
    "\n",
    "Очень похожи на списки, но неизменяемы. Используется для хранения набора разнородных данных.\n",
    "\n",
    "```python\n",
    "\n",
    "single = (25,)\n",
    "\n",
    "person = (25, \"Ivan\", \"Ivanov\")\n",
    "\n",
    "s[0] = 22 # 'tuple' object does not support item assignment\n",
    "\n",
    "age, name, sname = s   # \"распаковка\" элементов кортежа по переменным \n",
    "\n",
    "t = tuple([1, 2, 3])   # t = (1, 2, 3) \n",
    "\n",
    "```"
   ]
  },
  {
   "cell_type": "markdown",
   "metadata": {},
   "source": [
    "### Range \n",
    "\n",
    "Инкапсулирует неизменяемую последовательность целых чисел, используется в циклам и т.п.封装了一个不可改变的整数序列，用于配合for循环等。\n",
    "\n",
    "```python\n",
    "\n",
    "for idx in range(5):\n",
    "    print(idx)         # 0, 1, 2, 3, 4\n",
    "for x in range(10):\n",
    "    print(\"送玫瑰花\")    \n",
    "range(num1, num2)#获得一个从num1开始，到num2结束的数字序列（不含num2本身）如，range(5,10)取得的数据是：5,6,7,8,9\n",
    "range(num1,num2,step)#获得一个从num1开始，到num2结束的数字序列（不含num2本身）数字之间的步长，以step为准(step默认为1) 如，range(5,10,2)取得的数据是：5,7,9\n",
    "list(range(5))   # [0, 1, 2, 3, 4]\n",
    "tuple(range(5))  # (0, 1, 2, 3, 4)\n",
    "```"
   ]
  },
  {
   "cell_type": "markdown",
   "metadata": {},
   "source": [
    "### Множества 集合\n",
    "\n",
    "`set` — это неупорядоченный набор различных хешируемых объектов. Типовое использование заключается в  проверке вхождения, удаление дубликатов из последовательности и вычисление теоретико-множественных операций, таких как пересечение, объединение, разность. \n",
    "\n",
    "Будучи неупорядоченной коллекцией, `set` не сохраняет позицию элемента или порядок вставки. Соответственно, множества не поддерживают индексирование, получение срезов или другие действие, типичные для последовательностей. \n",
    "\n",
    "В стандартной библиотеке существует два встроенных типа множеств: `set` и `frozenset` . \n",
    "Последнее - неизменяемая версия, поддерживающая хеширование. "
   ]
  },
  {
   "cell_type": "markdown",
   "metadata": {},
   "source": [
    "```python\n",
    "s = {1, 2, 3}\n",
    "s = set([1, 2, 3])\n",
    "```"
   ]
  },
  {
   "cell_type": "markdown",
   "metadata": {},
   "source": [
    "```python\n",
    "s = set()\n",
    "s = set([1, 2, 3])\n",
    "\n",
    "s.add(5)\n",
    "s.discard(5)   # удалить элемент\n",
    "s.pop()        # удалить произвольный элемент, если множество пусто, то бросить исключение\n",
    "s.remove(2)    # удалить элемент, если такого нет, то бросить исключение\n",
    "s.update({1, 2, 3})\n",
    "s.clear()\n",
    "r: set  = s.difference({1, 2, 3})\n",
    "r: set  = s.union({1, 2, 3})\n",
    "r: set  = s.intersection({1, 2, 3})\n",
    "r: set  = s.issubset({1, 2, 3})\n",
    "r: bool = s.issuperset({1, 2, 3})\n",
    "    \n",
    "s |= {1, 2, 3}    \n",
    "s &= {1, 2, 3}\n",
    "```"
   ]
  },
  {
   "cell_type": "markdown",
   "metadata": {},
   "source": [
    "```python\n",
    "{ 1 } | {2, 3, 5} - {5}  # {1, 2, 3} 并集和差集\n",
    "{1, 2} & {2, 5}          # {2} 交集\n",
    "\n",
    "2 in {1, 2}              # True\n",
    "3 in {1, 2}              # False  \n",
    "```"
   ]
  },
  {
   "cell_type": "markdown",
   "metadata": {},
   "source": [
    "### Словари\n",
    "\n",
    "Словарь, `dict`, позволяет однозначно сопоставлять хешируемые объекты с произвольными объектами (ключ → значение). Изменяем. "
   ]
  },
  {
   "cell_type": "markdown",
   "metadata": {},
   "source": [
    "```python\n",
    "d = {1: 'a', 2: '3', 3: '4' } \n",
    "d = dict()\n",
    "d = dict([(1, 2), (3, 4)])\n",
    "```\n",
    "\n",
    "```python\n",
    "d.items()      # итератор по парам (ключ, значение)\n",
    "d.keys()       # итератор ключей\n",
    "d.values()     # итератор значений\n",
    "d.pop(el)      # удалить ключ, возвратить значение \n",
    "d.get(el)      # значение по ключу\n",
    "d.get(el, 5)   # значение по ключу, если нет - по умолчанию\n",
    "d.update({5: '7', 9: '10'})  # добавить все пары ключ/значение из *d*\n",
    "d.clear()\n",
    "```"
   ]
  },
  {
   "cell_type": "markdown",
   "metadata": {},
   "source": [
    "#### Получение значения о ключу 检索关于一个键的值\n",
    "\n",
    "```python\n",
    "s = {1: 'b', 2: 'c'}\n",
    "\n",
    "s[3] = 'a'\n",
    "s[2]           # 'c'\n",
    "s[8]           # KeyError: 8\n",
    "d.get(8, -1)   # -1\n",
    "2 in s         # True\n",
    "d.keys()       # Коллекция ключей\n",
    "d.values()     # Коллекция значений"
   ]
  },
  {
   "cell_type": "markdown",
   "metadata": {},
   "source": [
    "#### Итераторы\n",
    "\n",
    "Python поддерживает концепцию итераторов - абстракция, которая позволяет проходить по элементам контейнера (не только). Если контейнер или класс поддерживает итераторы, то он должен реализовать метод `__iter__()`, который возвращает специальный объект с двумя методами `__iter__()` и `__next__()`.\n",
    "Python支持迭代器的概念，这是一个抽象，允许你在一个容器的元素中穿行（不仅仅是）。如果一个容器或类支持迭代器，它必须实现一个方法`__iter__()`，它返回一个特殊的对象，有两个方法`__iter__()`和`__next__()`。\n",
    "\n",
    "```python\n",
    "\n",
    "l = [1, 2, 3]\n",
    "it = iter(l)\n",
    "\n",
    "next(it)  # 1\n",
    "next(it)  # 2\n",
    "next(it)  # 3\n",
    "next(it)  # StopIteration exception 停止迭代异常\n",
    "```"
   ]
  },
  {
   "cell_type": "markdown",
   "metadata": {},
   "source": [
    "Код\n",
    "\n",
    "```python\n",
    "lst = [1, 2, 3]\n",
    "\n",
    "for x in lst:\n",
    "    action(x)\n",
    "```\n",
    "\n",
    "примерно эквивалентен 大致相当于\n",
    "\n",
    "```python\n",
    "it = iter(lst)\n",
    "while True:\n",
    "    try:\n",
    "        value = next(it)        \n",
    "    except StopIteration:\n",
    "        break            \n",
    "    action(value)\n",
    "```"
   ]
  },
  {
   "cell_type": "markdown",
   "metadata": {},
   "source": [
    "## Управляющие конструкции 控制结构"
   ]
  },
  {
   "cell_type": "markdown",
   "metadata": {},
   "source": [
    "### Цикл `for` for循环\n",
    "\n",
    "```python\n",
    "s = 0\n",
    "for i in [1, 2, 3]:\n",
    "    s += i\n",
    "```\n",
    "\n",
    "Если нужно итерироваться по коллекции с индексами 如果你想用索引遍历一个集合\n",
    "\n",
    "```python\n",
    "lst = ['a', 'b', 'c']\n",
    "result = []\n",
    "for (i, x) in enumerate(lst):\n",
    "    result.append((x, i))\n",
    "```\n",
    "\n",
    "Если нужно итерироваться по индексам 如果你需要遍历索引\n",
    "\n",
    "```python\n",
    "s = 0\n",
    "l = [1, 2, 3]\n",
    "for idx in range(len(l)):\n",
    "    s += l[idx]\n",
    "```"
   ]
  },
  {
   "cell_type": "markdown",
   "metadata": {},
   "source": [
    "#### Цикл `while` while 循环\n",
    "\n",
    "```python\n",
    "i = 0\n",
    "lst = []\n",
    "while len(lst) < 6:\n",
    "    lst.append(i)\n",
    "    i += 1\n",
    "```\n",
    "\n",
    "\n",
    "`break` - досрочно выйти из цикла 提前退出循环\n",
    "```python\n",
    "for i in range(1,101):\n",
    "    print(\"语句1\")\n",
    "    break\n",
    "    print(\"语句2\")\n",
    "print(\"语句3\")#语句1 语句3\n",
    "```\n",
    "`continue` - перейти к следующей итерации 在循环内，结束当次循环，进入下一次。\n",
    "\n",
    "#演示循环中断语句continue\n",
    "```python\n",
    "for i in range(1,3):\n",
    "    print(\"语句1\")\n",
    "    continue\n",
    "    print(\"语句2\")#语句1 语句1 \n",
    "    #语句2不会执行\n",
    "```"
   ]
  },
  {
   "cell_type": "markdown",
   "metadata": {},
   "source": [
    "### Условный оператор `if` 条件运算符 `if`\n",
    "\n",
    "```python\n",
    "a = 2\n",
    "if a < 5:\n",
    "    a = 1\n",
    "elif a == 5:\n",
    "    a = 2\n",
    "else: \n",
    "    a = 3   \n",
    "```\n"
   ]
  },
  {
   "cell_type": "markdown",
   "metadata": {},
   "source": [
    "### List comprehension\n",
    "\n",
    "Синтаксическая структура для компактного описания операций обработки списков.\n",
    "\n",
    "```python\n",
    "l = [1, 2, 3]  \n",
    "\n",
    "# список квадратов\n",
    "l = [x * x for x in l] # [1, 4, 9]\n",
    "\n",
    "# список квадратов четных чисел\n",
    "l = [x * x for x in range(1, 10) if x % 2 == 0] \n",
    "\n",
    "```"
   ]
  },
  {
   "cell_type": "markdown",
   "metadata": {},
   "source": [
    "Более сложный пример - получается список списков\n",
    "\n",
    "```python\n",
    "lst = [list(range(x)) for x in range(1, 10) if x % 2 == 1]\n",
    "\n",
    "[[0],\n",
    " [0, 1, 2],\n",
    " [0, 1, 2, 3, 4],\n",
    " [0, 1, 2, 3, 4, 5, 6],\n",
    " [0, 1, 2, 3, 4, 5, 6, 7, 8]]\n",
    "\n",
    "```"
   ]
  },
  {
   "cell_type": "markdown",
   "metadata": {},
   "source": [
    "Может включать несколько списков\n",
    "\n",
    "```python\n",
    "lst = [(x, y) for x in range(1, 20) for y in range(1, 20) if x * y == 16]\n",
    "\n",
    "[(1, 16), (2, 8), (4, 4), (8, 2), (16, 1)]\n",
    "```"
   ]
  },
  {
   "cell_type": "markdown",
   "metadata": {},
   "source": [
    "Может создавать не только списки, но и словари и множества\n",
    "```python\n",
    "d = { x * x : x for x in range(5) }\n",
    "\n",
    "d = {0: 0, 1: 1, 4: 2, 9: 3, 16: 4}\n",
    "```"
   ]
  },
  {
   "cell_type": "markdown",
   "metadata": {},
   "source": [
    "Удобно работать с текстовыми данными\n",
    "\n",
    "```python\n",
    "text = ['Hello', 'world', '!']\n",
    "\n",
    "text_filtered = [t.lower() for t in text if t.isalpha()]\n",
    "```"
   ]
  },
  {
   "cell_type": "markdown",
   "metadata": {},
   "source": [
    "## Функции 函数\n",
    "\n",
    "Функции в `Python` можно определить с помощью ключевого слова `def` или `lambda`. "
   ]
  },
  {
   "cell_type": "markdown",
   "metadata": {},
   "source": [
    "```python\n",
    "from typing import List, Union\n",
    "\n",
    "def add(a, b):\n",
    "    return a + b\n",
    "\n",
    "div = lambda a, b : a / b\n",
    "\n",
    "add(2, 3), add('2', '3'), div(4, 2), div(b=2, a=2)\n",
    "```"
   ]
  },
  {
   "cell_type": "markdown",
   "metadata": {},
   "source": [
    "`Python` поддерживает функции и неопределенным числом аргументов, при этом аргументы могут быть позиционными и именованными. \n",
    "\n",
    "```python\n",
    "\n",
    "def foo(a, *args, **kwargs):\n",
    "    print(f\"{a=}\") \n",
    "    print(f\"{args=}\") \n",
    "    print(f\"{kwargs=}\") \n",
    "\n",
    "foo(1, 7, 10, c=10)\n",
    "\n",
    "# a=1\n",
    "# args=(7, 10)\n",
    "# kwargs={'c': 10}\n",
    "```"
   ]
  },
  {
   "cell_type": "markdown",
   "metadata": {},
   "source": [
    "Функции в `Python` - функции высшего порядка, можно использовать в качестве аргументов других функций и возвращать из других функций. \n",
    "\n",
    "```python\n",
    "def foo(f, a, b):\n",
    "    return f(a, b)\n",
    "\n",
    "foo(add, 5, 7) # = 12\n",
    "```\n",
    "\n",
    "Здесь функция возвращает функцию\n",
    "\n",
    "```python\n",
    "def appl(f, a):\n",
    "    return lambda x: f(a, x)\n",
    "\n",
    "add_2 = appl(add, 2)\n",
    "add_2(10)\n",
    "```"
   ]
  },
  {
   "cell_type": "markdown",
   "metadata": {},
   "source": [
    "В `Python` есть большой набор встроенных функций, в частности для сортировки:\n",
    "\n",
    "```python\n",
    "lst = [3, 2, 5, 1, 7]\n",
    "sorted(lst)  # [1, 2, 3, 5, 7]\n",
    "\n",
    "lst.sort()   # in-place для спика   \n",
    "```\n",
    "\n",
    "Можно передать функцию, которая определяет отношения порядка между элементами списка\n",
    "\n",
    "```python\n",
    "lst = [(5, 'the'), (2, 'sun'), (2, 'shines'), \n",
    "       (7, 'brightly')]\n",
    "lst.sort(key=lambda x: -x[0]) \n",
    "# [(7, 'brightly'), (5, 'the'), (2, 'sun'), (2, 'shines')]\n",
    "```"
   ]
  },
  {
   "cell_type": "markdown",
   "metadata": {},
   "source": [
    "## Итераторы и генераторы\n",
    "\n",
    "Итератор - объект, предоставляющий доступ к элементам коллекции и навигацию по ним. В `Python` есть концепции итерируемого объекта , итератора  и генератора. В общих слова:\n",
    "\n",
    "* итератор - специальный объект, который можно получить из коллекции с помощью вызова встроенной функции `iter`. В дальнейшем следующие элементы выдаются после вызова `next()`. \n",
    "\n",
    "* итерируемый объект - объект, по которому c помощью вызова `iter()` можно создать итератор\n",
    "\n",
    "* генератор - частный случай итератора, который создается с помощью функций специального вида"
   ]
  },
  {
   "cell_type": "markdown",
   "metadata": {},
   "source": [
    "```python\n",
    "it = iter([1, 2, 3])\n",
    "next(it), next(it), next(it)\n",
    "```"
   ]
  },
  {
   "cell_type": "markdown",
   "metadata": {},
   "source": [
    "В цикле `for` итератор создается неявным образом, главное чтобы в качестве аргумента был итерируемый объект. Следующий код\n",
    "\n",
    "```python\n",
    "def action(x):\n",
    "    print(x)\n",
    "\n",
    "lst = [1, 2, 3]\n",
    "\n",
    "for x in lst:\n",
    "    action(x)\n",
    "```\n",
    "\n",
    "```bash\n",
    "1\n",
    "2\n",
    "3\n",
    "\n",
    "```\n",
    "\n",
    "приблизительно эквивалентен\n",
    "\n",
    "```python\n",
    "it = iter(lst)\n",
    "while True:\n",
    "    try:\n",
    "        value = next(it)        \n",
    "    except StopIteration:\n",
    "        break            \n",
    "    action(value)\n",
    "    \n",
    "```\n",
    "\n",
    "```bash\n",
    "1\n",
    "2\n",
    "3\n",
    "\n",
    "```"
   ]
  },
  {
   "cell_type": "markdown",
   "metadata": {},
   "source": [
    "\"Функция-генератор\" - это специальная функция, которая содержит хотя бы один оператор `yield` . Вызов функции интерпретируется как создание итератора, в момент вызова `yield` выполнение приостанавливается.\n",
    "\n",
    "```python\n",
    "def gen(val):\n",
    "    for i in range(3):\n",
    "        yield '%s #%d' % (val, i) \n",
    "        print('After yield %d' % i)\n",
    "    \n",
    "for val in gen('From yield'):\n",
    "    print(val)\n",
    "    \n",
    "it = gen('From yield once again')    \n",
    "next(it), next(it)\n",
    "```\n",
    "\n",
    "```bash\n",
    "From yield #0\n",
    "After yield 0\n",
    "From yield #1\n",
    "After yield 1\n",
    "From yield #2\n",
    "After yield 2\n",
    "After yield 0\n",
    "\n",
    "```"
   ]
  },
  {
   "cell_type": "markdown",
   "metadata": {},
   "source": [
    "\n",
    "В качестве альтернативы можно использовать list comprehension, только с круглыми скобками, в этом случае так же создается генератор:\n",
    "\n",
    "```python\n",
    "gen = (x for x in range(1, 100) if x % 2 == 0)\n",
    "next(gen), next(gen)\n",
    "```\n",
    "\n",
    "```bash\n",
    "(2, 4)\n",
    "```"
   ]
  },
  {
   "cell_type": "markdown",
   "metadata": {},
   "source": [
    "## Классы\n",
    "\n",
    "* в методы явно передается ссылка на объект - `self`\n",
    "* специализированные методы начинаются и заканчиваются двумя подчеркиваниями. Это одна из черт общей философии языка `Python`. В данном примере `__str__` применяется для создания строкового представления, а `__repr__` используется для отладки и результат должен отображать внутреннее состояние экземпляра класса.\n",
    "\n",
    "```python\n",
    "class Person:        \n",
    "    def __init__(self, name, age, children=[]):\n",
    "        self.name = name\n",
    "        self.age = age\n",
    "        self.children = children\n",
    "        \n",
    "    def add_child(self, child):\n",
    "        self.children.append(child)\n",
    "        \n",
    "    def __str__(self):\n",
    "        return self.name\n",
    "    \n",
    "    def __repr__(self):\n",
    "        return f'Person(\"{self.name}\", {self.age}, {repr(self.children)})'"
   ]
  },
  {
   "cell_type": "markdown",
   "metadata": {},
   "source": [
    "Создадим экземпляр класса (оператора `new` в `Python` нет)\n",
    "\n",
    "```python\n",
    "person = Person('Ivan Ivanov', 35)\n",
    "print('{}\\n{}\\n{}'.format(repr(person), str(person), person))\n",
    "```\n",
    "\n",
    "```bash\n",
    "Person(\"Ivan Ivanov\", 35, [])\n",
    "Ivan Ivanov\n",
    "Ivan Ivanov\n",
    "\n",
    "```"
   ]
  },
  {
   "cell_type": "markdown",
   "metadata": {},
   "source": [
    "Экземпляр класса в Python, если очень упрощенно, представляет собой словарь - ассоциативный массив из полей и методов\n",
    "\n",
    "```python\n",
    "vars(person)\n",
    "```\n",
    "\n",
    "```bash\n",
    "{'name': 'Ivan Ivanov', 'age': 35, 'children': []}\n",
    "```"
   ]
  },
  {
   "cell_type": "markdown",
   "metadata": {},
   "source": [
    "```python\n",
    "dir(person)\n",
    "```\n",
    "\n",
    "```bash\n",
    "['__class__',\n",
    " '__delattr__',\n",
    " '__dict__',\n",
    " '__dir__',\n",
    " '__doc__',\n",
    " '__eq__',\n",
    " '__format__',\n",
    " '__ge__',\n",
    " '__getattribute__',\n",
    " '__gt__',\n",
    " '__hash__',\n",
    " '__init__',\n",
    " '__init_subclass__',\n",
    " '__le__',\n",
    " '__lt__',\n",
    " '__module__',\n",
    " '__ne__',\n",
    " '__new__',\n",
    " '__reduce__',\n",
    " '__reduce_ex__',\n",
    " '__repr__',\n",
    " '__setattr__',\n",
    " '__sizeof__',\n",
    " '__str__',\n",
    " '__subclasshook__',\n",
    " '__weakref__',\n",
    " 'add_child',\n",
    " 'age',\n",
    " 'children',\n",
    " 'name']\n",
    "```"
   ]
  },
  {
   "cell_type": "markdown",
   "metadata": {},
   "source": [
    "для классов, предназначенных только для хранения данных, можно использовать `namedtuple` или `@dataclass`\n",
    "\n",
    "```python\n",
    "from typing import NamedTuple\n",
    "from dataclasses import dataclass\n",
    "\n",
    "@dataclass\n",
    "class Person:\n",
    "    name: str\n",
    "    age: int\n",
    "\n",
    "class Person2(NamedTuple):\n",
    "    name: str\n",
    "    age: int\n",
    "\n",
    "person = Person(name='Ivanov', age=20)\n",
    "person, person.name, person.age\n",
    "```\n",
    "\n",
    "```bash\n",
    "(Person(name='Ivanov', age=20), 'Ivanov', 20)\n",
    "```"
   ]
  },
  {
   "cell_type": "markdown",
   "metadata": {},
   "source": [
    "Класс может интерпретировать реализовывать интерфейс получения итератора:\n",
    "\n",
    "```python\n",
    "class FibSequence:\n",
    "    def __init__(self, start0: int, start1: int):\n",
    "        self.start0 = start0\n",
    "        self.start1 = start1\n",
    "        \n",
    "    def __iter__(self):\n",
    "        yield self.start0\n",
    "        yield self.start1\n",
    "        while True:\n",
    "            self.start0, self.start1  = self.start1, self.start0 + self.start1\n",
    "            yield self.start1                                \n",
    "```\n",
    "\n",
    "```python\n",
    "fib_seq = FibSequence(1, 2)\n",
    "\n",
    "for i, num in enumerate(fib_seq):\n",
    "    print(i, num)\n",
    "    if i >= 5:\n",
    "        break\n",
    "```\n",
    "\n",
    "```bash\n",
    "0 1\n",
    "1 2\n",
    "2 3\n",
    "3 5\n",
    "4 8\n",
    "5 13\n",
    "\n",
    "```"
   ]
  },
  {
   "cell_type": "markdown",
   "metadata": {},
   "source": []
  }
 ],
 "metadata": {
  "celltoolbar": "Слайд-шоу",
  "kernelspec": {
   "display_name": "Python 3.10.8 64-bit",
   "language": "python",
   "name": "python3"
  },
  "language_info": {
   "codemirror_mode": {
    "name": "ipython",
    "version": 3
   },
   "file_extension": ".py",
   "mimetype": "text/x-python",
   "name": "python",
   "nbconvert_exporter": "python",
   "pygments_lexer": "ipython3",
   "version": "3.10.8"
  },
  "vscode": {
   "interpreter": {
    "hash": "a27408a912e1659601da116caee4e05fd6381c5653a5d3a4751b21f563f62057"
   }
  }
 },
 "nbformat": 4,
 "nbformat_minor": 4
}
