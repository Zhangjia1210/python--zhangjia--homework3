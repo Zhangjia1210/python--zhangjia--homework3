{
 "cells": [
  {
   "cell_type": "markdown",
   "metadata": {},
   "source": [
    "# Joblib\n",
    "\n",
    "Набор утилит для распараллеливания задач, эффективного дискового кэширования и сериализации"
   ]
  },
  {
   "cell_type": "code",
   "execution_count": 1,
   "metadata": {},
   "outputs": [],
   "source": [
    "import tempfile\n",
    "\n",
    "import joblib\n",
    "import numpy as np\n",
    "import numpy.typing as npt\n",
    "from joblib import Memory, Parallel, delayed"
   ]
  },
  {
   "cell_type": "markdown",
   "metadata": {},
   "source": [
    "### Кэширование"
   ]
  },
  {
   "cell_type": "code",
   "execution_count": 2,
   "metadata": {},
   "outputs": [
    {
     "name": "stdout",
     "output_type": "stream",
     "text": [
      "________________________________________________________________________________\n",
      "[Memory] Calling __main__--tmp-ipykernel-2307173161.long_running_func...\n",
      "long_running_func(array([[0.464155, ..., 0.773191],\n",
      "       ...,\n",
      "       [0.4616  , ..., 0.706032]]))\n",
      "________________________________________________long_running_func - 3.2s, 0.1min\n"
     ]
    }
   ],
   "source": [
    "with tempfile.TemporaryDirectory() as cachedir:\n",
    "    mem = Memory(cachedir)\n",
    "    \n",
    "    @mem.cache\n",
    "    def long_running_func(arr: npt.ArrayLike) -> npt.ArrayLike:\n",
    "        return np.linalg.pinv(arr)\n",
    "    \n",
    "    \n",
    "    arr = np.random.random(size=(1000, 1000))\n",
    "    long_running_func(arr)\n",
    "    long_running_func(arr)\n",
    "        "
   ]
  },
  {
   "cell_type": "markdown",
   "metadata": {},
   "source": [
    "### Параллельные вычисления"
   ]
  },
  {
   "cell_type": "code",
   "execution_count": 3,
   "metadata": {},
   "outputs": [],
   "source": [
    "import os\n",
    "import time\n",
    "from typing import List\n",
    "\n",
    "\n",
    "def func(x: npt.ArrayLike) -> np.float64:\n",
    "    time.sleep(1)\n",
    "    return np.linalg.pinv(x * 5 + x).sum()\n",
    "\n",
    "matrixes = [np.random.randn(1000, 1000) for _ in range(8)]\n",
    "\n",
    "def func_parallel(matrixes: List[npt.ArrayLike]):\n",
    "    with Parallel(n_jobs=os.cpu_count()) as parallel:\n",
    "        result = parallel([delayed(func)(matr) for matr in matrixes])\n",
    "        return result\n",
    "        \n",
    "def func_seq(matrixes: List[npt.ArrayLike]):\n",
    "    result = [func(matr) for matr in matrixes]\n",
    "    return result"
   ]
  },
  {
   "cell_type": "code",
   "execution_count": 4,
   "metadata": {},
   "outputs": [
    {
     "name": "stdout",
     "output_type": "stream",
     "text": [
      "CPU times: user 50.5 ms, sys: 91.2 ms, total: 142 ms\n",
      "Wall time: 8.54 s\n"
     ]
    }
   ],
   "source": [
    "%time r1 = func_parallel(matrixes)"
   ]
  },
  {
   "cell_type": "code",
   "execution_count": 5,
   "metadata": {},
   "outputs": [
    {
     "name": "stdout",
     "output_type": "stream",
     "text": [
      "CPU times: user 17.6 s, sys: 17.2 s, total: 34.8 s\n",
      "Wall time: 18.3 s\n"
     ]
    }
   ],
   "source": [
    "%time r2 = func_seq(matrixes)"
   ]
  },
  {
   "cell_type": "markdown",
   "metadata": {},
   "source": [
    "### Сериализация"
   ]
  },
  {
   "cell_type": "code",
   "execution_count": 6,
   "metadata": {},
   "outputs": [
    {
     "name": "stdout",
     "output_type": "stream",
     "text": [
      "[[0.70048133 0.33807662 0.96802752 ... 0.8726561  0.53235966 0.95756961]\n",
      " [0.98344339 0.76825222 0.18895724 ... 0.64626303 0.2730661  0.62092832]\n",
      " [0.79266053 0.37509146 0.04068405 ... 0.17779883 0.07822607 0.32777225]\n",
      " ...\n",
      " [0.36306885 0.3314119  0.17422314 ... 0.35247475 0.99715434 0.96220759]\n",
      " [0.71764039 0.56004204 0.52307381 ... 0.76640573 0.08748426 0.40420756]\n",
      " [0.56263277 0.53453473 0.77335292 ... 0.5445814  0.87719711 0.63730799]]\n"
     ]
    }
   ],
   "source": [
    "# hdf5\n",
    "with tempfile.NamedTemporaryFile(suffix='.lz4') as fn:\n",
    "    \n",
    "    big_array = np.random.random(size=(1000, 1000))\n",
    "    \n",
    "    with open(fn.name, 'wb') as f:\n",
    "        joblib.dump(big_array, f)\n",
    "        \n",
    "    print(joblib.load(open(fn.name, 'rb')))"
   ]
  },
  {
   "cell_type": "code",
   "execution_count": null,
   "metadata": {},
   "outputs": [],
   "source": []
  }
 ],
 "metadata": {
  "kernelspec": {
   "display_name": "Python 3.10.6 64-bit",
   "language": "python",
   "name": "python3"
  },
  "language_info": {
   "codemirror_mode": {
    "name": "ipython",
    "version": 3
   },
   "file_extension": ".py",
   "mimetype": "text/x-python",
   "name": "python",
   "nbconvert_exporter": "python",
   "pygments_lexer": "ipython3",
   "version": "3.10.6"
  },
  "vscode": {
   "interpreter": {
    "hash": "916dbcbb3f70747c44a77c7bcd40155683ae19c65e1c03b4aa3499c5328201f1"
   }
  }
 },
 "nbformat": 4,
 "nbformat_minor": 4
}
