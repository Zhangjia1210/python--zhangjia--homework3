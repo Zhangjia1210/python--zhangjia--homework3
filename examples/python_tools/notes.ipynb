{
 "cells": [
  {
   "cell_type": "markdown",
   "metadata": {},
   "source": [
    "## Python Virtual Environment \n",
    "\n",
    "Основна задача - создание изолированного окружения для проекта. \n",
    "Кроме того:\n",
    "- защита от проблем, связанных с конфликтом зависимостей от \"глобальных библиотек\"\n",
    "- поддержка чистоты основной системы\n",
    "- поддержание зависимостей проекта в актуальном состоянии\n",
    "- во избежание сторонних эффектов от использования системных библиотек\n",
    "\n",
    "Допустим проект использует [Flask](https://flask.palletsprojects.com) версии `2`. Затем кто-то ставит в глобальное окружение версию `1.0.0`. Это рушит все зависимости. \n",
    "\n",
    "```bash\n",
    "pip3 install flask==1.0.0\n",
    "pip3 list\n",
    "```"
   ]
  },
  {
   "cell_type": "markdown",
   "metadata": {},
   "source": [
    "### Создание виртуального окружения\n",
    "\n",
    "`venv` - часть стандартной библиотеки\n",
    "\n",
    "`virtualenv` - надмножество `venv`, большее количество возможностей\n",
    "\n",
    "Кроме того:\n",
    "- `pyenv`\n",
    "- `pyvenv`\n",
    "- `pyenv-virtualenv`\n",
    "\n",
    "\n",
    "Пример создание виртуального окружения при помощи `virtualenv` под *nix системы:\n",
    "\n",
    "```bash\n",
    "# создание\n",
    "python3 -m virtualenv .venv\n",
    "# активация\n",
    "source .venv/bin/activate\n",
    "# установка пакета в виртуальное окружение\n",
    "pip3 install flask\n",
    "# деактивация\n",
    "deactivate\n",
    "```\n",
    "\n",
    "под `Windows`:\n",
    "\n",
    "```PS\n",
    "# создание\n",
    "python3 -m virtualenv .venv\n",
    "# активация, если используется cmd.exe\n",
    ".venv\\Scripts\\activate.bat \n",
    "# активация, если используется PowerShell\n",
    ".venv\\Scripts\\Activate.ps1\n",
    "# установка пакета в виртуальное окружение\n",
    "pip3 install flask\n",
    "# деактивация\n",
    "deactivate\n",
    "```"
   ]
  },
  {
   "cell_type": "markdown",
   "metadata": {},
   "source": [
    "\n",
    "### Python и управление пакетами\n",
    "\n",
    "Задачи:\n",
    "- сборка пакетов из исходных текстов\n",
    "- загрузка пакетов в репозиторий (например, https://pypi.org)\n",
    "- единый формат для настройки утилит (средства форматирования кода, статического анализа и т.д.)\n",
    "\n",
    "\n",
    "**Python Packaging Authority** - рабочая группа по стандартизации систем сборки, управления зависимостями \n",
    "\n",
    "В Python изначально не было какой-то стандартной системы управлению пакетами.\n",
    "\n",
    "`distutils` - стал частью стандартной библиотеки в 2000 году\n",
    "\n",
    "`PyPI` - запущен в 2003 году\n",
    "\n",
    "`setuptools` -  2004 год\n",
    "\n",
    "`pip` - 2008 год\n",
    "\n",
    "`setuptools` - наиболее распространенная в настоящее система система сборки. До появления `pyproject.toml` (**PEP 517** and **PEP 518**) сборка  конфигурировалась с помощью файла `setup.py` или `setup.cfg`"
   ]
  },
  {
   "cell_type": "markdown",
   "metadata": {},
   "source": [
    "Использование `pyproject.toml` (описано в соответствующий `PEP`-ах) - попытка унифицировать процесс сборки (разделение frontend/backend)"
   ]
  },
  {
   "cell_type": "markdown",
   "metadata": {},
   "source": [
    "Средства верификации и форматирования кода:\n",
    "- `isort`\n",
    "- `black`\n",
    "- `ruff`\n",
    "- `flake8`\n",
    "- `pylint`\n",
    "- `autopep8`\n",
    "\n"
   ]
  }
 ],
 "metadata": {
  "kernelspec": {
   "display_name": "Python 3.10.6 64-bit",
   "language": "python",
   "name": "python3"
  },
  "language_info": {
   "name": "python",
   "version": "3.10.6"
  },
  "orig_nbformat": 4,
  "vscode": {
   "interpreter": {
    "hash": "916dbcbb3f70747c44a77c7bcd40155683ae19c65e1c03b4aa3499c5328201f1"
   }
  }
 },
 "nbformat": 4,
 "nbformat_minor": 2
}
