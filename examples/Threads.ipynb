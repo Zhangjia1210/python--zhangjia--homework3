{
 "cells": [
  {
   "cell_type": "code",
   "execution_count": 1,
   "metadata": {},
   "outputs": [],
   "source": [
    "import threading"
   ]
  },
  {
   "cell_type": "markdown",
   "metadata": {},
   "source": [
    "# Создание потоков"
   ]
  },
  {
   "cell_type": "code",
   "execution_count": 2,
   "metadata": {},
   "outputs": [
    {
     "name": "stdout",
     "output_type": "stream",
     "text": [
      "Thread 1: 120\n",
      "\n",
      "Thread 2: 93326215443944152681699238856266700490715968264381621468592963895217599993229915608941463976156518286253697920827223758251185210916864000000000000000000000000\n",
      "\n"
     ]
    }
   ],
   "source": [
    "def factorial(n: int, thread_num: int) -> int:\n",
    "    res = 1\n",
    "    for i in range(1, n + 1):\n",
    "        res *= i\n",
    "    \n",
    "    print('Thread {}: {}\\n'.format(thread_num, res))\n",
    "    return res\n",
    "\n",
    "thread1 = threading.Thread(target=factorial, args=(5, 1))\n",
    "thread2 = threading.Thread(target=factorial, args=(100, 2))\n",
    "\n",
    "thread1.start()\n",
    "thread2.start()\n",
    "\n",
    "thread1.join()\n",
    "thread2.join()"
   ]
  },
  {
   "cell_type": "markdown",
   "metadata": {},
   "source": [
    "# ThreadPoolExecutor\n",
    "\n",
    "Создание поток - дорогая операция. `ThreadPoolExecutor` - это пул поток, методв `submit` назначает заданию какой-то свободный поток (если есть свободные, иначе ставит в очередь). \n",
    "\n",
    "`Future` (оно же в определенном варианте `Promise`, `CompletableFuture`) - это некоторая ручка, которая позволяет отслеживать процесс выполнения задания, получать результат и т.п."
   ]
  },
  {
   "cell_type": "code",
   "execution_count": 3,
   "metadata": {},
   "outputs": [
    {
     "data": {
      "text/plain": [
       "(8, 120, 3628800)"
      ]
     },
     "execution_count": 3,
     "metadata": {},
     "output_type": "execute_result"
    }
   ],
   "source": [
    "from concurrent.futures import Future, ThreadPoolExecutor\n",
    "\n",
    "\n",
    "def factorial(n: int) -> int:\n",
    "    res = 1\n",
    "    for i in range(1, n + 1):\n",
    "        res *= i\n",
    "    \n",
    "    return res\n",
    "\n",
    "\n",
    "def add(a: int, b: int) -> int:\n",
    "    return a + b\n",
    "\n",
    "\n",
    "executor = ThreadPoolExecutor(max_workers=3)\n",
    "\n",
    "future1 = executor.submit(factorial, 5)\n",
    "future2 = executor.submit(factorial, 10)\n",
    "future3 = executor.submit(add, 5, 3)\n",
    "\n",
    "future3.result(), future1.result(), future2.result()"
   ]
  },
  {
   "cell_type": "markdown",
   "metadata": {},
   "source": [
    "Есть многопоточный аналог функции `map`"
   ]
  },
  {
   "cell_type": "code",
   "execution_count": 4,
   "metadata": {},
   "outputs": [],
   "source": [
    "# input list\n",
    "it = [x for x in range(10000)]\n",
    "\n",
    "# list comprehension\n",
    "lst = [x**2 for x in it]\n",
    "# map\n",
    "lst = list(map(lambda x: x**2, it))"
   ]
  },
  {
   "cell_type": "code",
   "execution_count": 5,
   "metadata": {},
   "outputs": [],
   "source": [
    "# \"parallel\" map computation\n",
    "it = [x * 10 for x in range(10000)]\n",
    "for r in executor.map(lambda x: x ** 2, it):\n",
    "    pass"
   ]
  },
  {
   "cell_type": "markdown",
   "metadata": {},
   "source": [
    "# Процессы\n",
    "\n",
    "Потоки в `CPython` неэффективны для вычислительно-сложный операций, так как присутствут `GIL`. В качестве альтернативы есть модуль `multiprocessing`, который создает процессы вместо потоков. Новый процесс имеет своё адресное пространство памяти, потому взаимодействие между процессами некоторым образом осложнено. Более того, метод создание дочерних процессов может различаться в зависимости от операционной системы."
   ]
  },
  {
   "cell_type": "code",
   "execution_count": 6,
   "metadata": {},
   "outputs": [
    {
     "name": "stdout",
     "output_type": "stream",
     "text": [
      "93326215443944152681699238856266700490715968264381621468592963895217599993229915608941463976156518286253697920827223758251185210916864000000000000000000000000 788657867364790503552363213932185062295135977687173263294742533244359449963403342920304284011984623904177212138919638830257642790242637105061926624952829931113462857270763317237396988943922445621451664240254033291864131227428294853277524242407573903240321257405579568660226031904170324062351700858796178922222789623703897374720000000000000000000000000000000000000000000000000\n"
     ]
    }
   ],
   "source": [
    "# Загружаем параллельно три ссылки\n",
    "\n",
    "import time\n",
    "from multiprocessing import Pool, Process\n",
    "\n",
    "\n",
    "with Pool() as pool:    \n",
    "    fut1 = pool.apply_async(factorial, args=(100,))\n",
    "    fut2 = pool.apply_async(factorial, args=(200,))\n",
    "    print(fut1.get(), fut2.get())"
   ]
  },
  {
   "cell_type": "code",
   "execution_count": 7,
   "metadata": {},
   "outputs": [
    {
     "name": "stdout",
     "output_type": "stream",
     "text": [
      "93326215443944152681699238856266700490715968264381621468592963895217599993229915608941463976156518286253697920827223758251185210916864000000000000000000000000 788657867364790503552363213932185062295135977687173263294742533244359449963403342920304284011984623904177212138919638830257642790242637105061926624952829931113462857270763317237396988943922445621451664240254033291864131227428294853277524242407573903240321257405579568660226031904170324062351700858796178922222789623703897374720000000000000000000000000000000000000000000000000\n"
     ]
    }
   ],
   "source": [
    "# Загружаем параллельно три ссылки\n",
    "\n",
    "import time\n",
    "from concurrent.futures import ProcessPoolExecutor, ThreadPoolExecutor\n",
    "\n",
    "\n",
    "with ProcessPoolExecutor(4) as pool:\n",
    "    fut1 = pool.submit(factorial, 100)\n",
    "    fut2 = pool.submit(factorial, 200)\n",
    "    print(fut1.result(), fut2.result())"
   ]
  }
 ],
 "metadata": {
  "kernelspec": {
   "display_name": "Python 3.10.6 64-bit",
   "language": "python",
   "name": "python3"
  },
  "language_info": {
   "codemirror_mode": {
    "name": "ipython",
    "version": 3
   },
   "file_extension": ".py",
   "mimetype": "text/x-python",
   "name": "python",
   "nbconvert_exporter": "python",
   "pygments_lexer": "ipython3",
   "version": "3.10.6"
  },
  "vscode": {
   "interpreter": {
    "hash": "916dbcbb3f70747c44a77c7bcd40155683ae19c65e1c03b4aa3499c5328201f1"
   }
  }
 },
 "nbformat": 4,
 "nbformat_minor": 4
}
